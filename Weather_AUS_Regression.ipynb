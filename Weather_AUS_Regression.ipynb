{
  "cells": [
    {
      "cell_type": "code",
      "execution_count": null,
      "id": "1b3d2cc6",
      "metadata": {
        "id": "1b3d2cc6"
      },
      "outputs": [],
      "source": [
        "import numpy as np\n",
        "import pandas as pd\n",
        "\n",
        "import matplotlib.pyplot as plt\n",
        "import matplotlib\n",
        "import seaborn as sns\n",
        "%matplotlib inline"
      ]
    },
    {
      "cell_type": "code",
      "execution_count": null,
      "id": "0b461315",
      "metadata": {
        "id": "0b461315"
      },
      "outputs": [],
      "source": [
        "import warnings\n",
        "\n",
        "warnings.filterwarnings('ignore')"
      ]
    },
    {
      "cell_type": "code",
      "execution_count": null,
      "id": "5fdd5ef0",
      "metadata": {
        "id": "5fdd5ef0"
      },
      "outputs": [],
      "source": [
        "df = pd.read_csv(\"weatherAUS.csv\")"
      ]
    },
    {
      "cell_type": "code",
      "execution_count": null,
      "id": "98e356ee",
      "metadata": {
        "id": "98e356ee",
        "outputId": "760deb81-ef35-48f7-a230-4b4139865fee"
      },
      "outputs": [
        {
          "data": {
            "text/plain": [
              "(36881, 24)"
            ]
          },
          "execution_count": 4,
          "metadata": {},
          "output_type": "execute_result"
        }
      ],
      "source": [
        "df.shape"
      ]
    },
    {
      "cell_type": "code",
      "execution_count": null,
      "id": "c5f45731",
      "metadata": {
        "id": "c5f45731",
        "outputId": "90b1fcc8-fa8f-4389-9004-58d1835c70af"
      },
      "outputs": [
        {
          "data": {
            "text/html": [
              "<div>\n",
              "<style scoped>\n",
              "    .dataframe tbody tr th:only-of-type {\n",
              "        vertical-align: middle;\n",
              "    }\n",
              "\n",
              "    .dataframe tbody tr th {\n",
              "        vertical-align: top;\n",
              "    }\n",
              "\n",
              "    .dataframe thead th {\n",
              "        text-align: right;\n",
              "    }\n",
              "</style>\n",
              "<table border=\"1\" class=\"dataframe\">\n",
              "  <thead>\n",
              "    <tr style=\"text-align: right;\">\n",
              "      <th></th>\n",
              "      <th>Date</th>\n",
              "      <th>Location</th>\n",
              "      <th>MinTemp</th>\n",
              "      <th>MaxTemp</th>\n",
              "      <th>Rainfall</th>\n",
              "      <th>Evaporation</th>\n",
              "      <th>Sunshine</th>\n",
              "      <th>WindGustDir</th>\n",
              "      <th>WindGustSpeed</th>\n",
              "      <th>WindDir9am</th>\n",
              "      <th>...</th>\n",
              "      <th>Humidity3pm</th>\n",
              "      <th>Pressure9am</th>\n",
              "      <th>Pressure3pm</th>\n",
              "      <th>Cloud9am</th>\n",
              "      <th>Cloud3pm</th>\n",
              "      <th>Temp9am</th>\n",
              "      <th>Temp3pm</th>\n",
              "      <th>RainToday</th>\n",
              "      <th>RISK_MM</th>\n",
              "      <th>RainTomorrow</th>\n",
              "    </tr>\n",
              "  </thead>\n",
              "  <tbody>\n",
              "    <tr>\n",
              "      <th>0</th>\n",
              "      <td>5/18/2009</td>\n",
              "      <td>Hobart</td>\n",
              "      <td>5.1</td>\n",
              "      <td>14.3</td>\n",
              "      <td>0.0</td>\n",
              "      <td>1.8</td>\n",
              "      <td>8.9</td>\n",
              "      <td>NW</td>\n",
              "      <td>30.0</td>\n",
              "      <td>WSW</td>\n",
              "      <td>...</td>\n",
              "      <td>47.0</td>\n",
              "      <td>1023.1</td>\n",
              "      <td>1022.2</td>\n",
              "      <td>1.0</td>\n",
              "      <td>1.0</td>\n",
              "      <td>9.1</td>\n",
              "      <td>13.3</td>\n",
              "      <td>No</td>\n",
              "      <td>0.0</td>\n",
              "      <td>No</td>\n",
              "    </tr>\n",
              "    <tr>\n",
              "      <th>1</th>\n",
              "      <td>7/3/2009</td>\n",
              "      <td>Launceston</td>\n",
              "      <td>1.1</td>\n",
              "      <td>14.5</td>\n",
              "      <td>0.4</td>\n",
              "      <td>NaN</td>\n",
              "      <td>NaN</td>\n",
              "      <td>SSW</td>\n",
              "      <td>50.0</td>\n",
              "      <td>E</td>\n",
              "      <td>...</td>\n",
              "      <td>46.0</td>\n",
              "      <td>1001.5</td>\n",
              "      <td>1002.4</td>\n",
              "      <td>NaN</td>\n",
              "      <td>NaN</td>\n",
              "      <td>1.3</td>\n",
              "      <td>13.7</td>\n",
              "      <td>No</td>\n",
              "      <td>0.0</td>\n",
              "      <td>No</td>\n",
              "    </tr>\n",
              "    <tr>\n",
              "      <th>2</th>\n",
              "      <td>2/18/2010</td>\n",
              "      <td>Williamtown</td>\n",
              "      <td>19.7</td>\n",
              "      <td>26.2</td>\n",
              "      <td>0.0</td>\n",
              "      <td>7.2</td>\n",
              "      <td>7.2</td>\n",
              "      <td>SSE</td>\n",
              "      <td>41.0</td>\n",
              "      <td>SSE</td>\n",
              "      <td>...</td>\n",
              "      <td>50.0</td>\n",
              "      <td>1020.9</td>\n",
              "      <td>1021.9</td>\n",
              "      <td>6.0</td>\n",
              "      <td>4.0</td>\n",
              "      <td>22.7</td>\n",
              "      <td>24.4</td>\n",
              "      <td>No</td>\n",
              "      <td>0.2</td>\n",
              "      <td>No</td>\n",
              "    </tr>\n",
              "    <tr>\n",
              "      <th>3</th>\n",
              "      <td>3/4/2010</td>\n",
              "      <td>PerthAirport</td>\n",
              "      <td>16.6</td>\n",
              "      <td>28.0</td>\n",
              "      <td>0.0</td>\n",
              "      <td>9.0</td>\n",
              "      <td>11.3</td>\n",
              "      <td>SW</td>\n",
              "      <td>54.0</td>\n",
              "      <td>SSE</td>\n",
              "      <td>...</td>\n",
              "      <td>41.0</td>\n",
              "      <td>1018.3</td>\n",
              "      <td>1014.9</td>\n",
              "      <td>6.0</td>\n",
              "      <td>1.0</td>\n",
              "      <td>20.0</td>\n",
              "      <td>26.1</td>\n",
              "      <td>No</td>\n",
              "      <td>0.0</td>\n",
              "      <td>No</td>\n",
              "    </tr>\n",
              "    <tr>\n",
              "      <th>4</th>\n",
              "      <td>9/9/2010</td>\n",
              "      <td>GoldCoast</td>\n",
              "      <td>14.6</td>\n",
              "      <td>25.3</td>\n",
              "      <td>0.0</td>\n",
              "      <td>NaN</td>\n",
              "      <td>NaN</td>\n",
              "      <td>NNW</td>\n",
              "      <td>43.0</td>\n",
              "      <td>WNW</td>\n",
              "      <td>...</td>\n",
              "      <td>67.0</td>\n",
              "      <td>1020.3</td>\n",
              "      <td>1015.0</td>\n",
              "      <td>NaN</td>\n",
              "      <td>NaN</td>\n",
              "      <td>22.2</td>\n",
              "      <td>22.6</td>\n",
              "      <td>No</td>\n",
              "      <td>0.4</td>\n",
              "      <td>No</td>\n",
              "    </tr>\n",
              "  </tbody>\n",
              "</table>\n",
              "<p>5 rows × 24 columns</p>\n",
              "</div>"
            ],
            "text/plain": [
              "        Date      Location  MinTemp  MaxTemp  Rainfall  Evaporation  Sunshine  \\\n",
              "0  5/18/2009        Hobart      5.1     14.3       0.0          1.8       8.9   \n",
              "1   7/3/2009    Launceston      1.1     14.5       0.4          NaN       NaN   \n",
              "2  2/18/2010   Williamtown     19.7     26.2       0.0          7.2       7.2   \n",
              "3   3/4/2010  PerthAirport     16.6     28.0       0.0          9.0      11.3   \n",
              "4   9/9/2010     GoldCoast     14.6     25.3       0.0          NaN       NaN   \n",
              "\n",
              "  WindGustDir  WindGustSpeed WindDir9am  ... Humidity3pm  Pressure9am  \\\n",
              "0          NW           30.0        WSW  ...        47.0       1023.1   \n",
              "1         SSW           50.0          E  ...        46.0       1001.5   \n",
              "2         SSE           41.0        SSE  ...        50.0       1020.9   \n",
              "3          SW           54.0        SSE  ...        41.0       1018.3   \n",
              "4         NNW           43.0        WNW  ...        67.0       1020.3   \n",
              "\n",
              "   Pressure3pm  Cloud9am  Cloud3pm  Temp9am  Temp3pm  RainToday  RISK_MM  \\\n",
              "0       1022.2       1.0       1.0      9.1     13.3         No      0.0   \n",
              "1       1002.4       NaN       NaN      1.3     13.7         No      0.0   \n",
              "2       1021.9       6.0       4.0     22.7     24.4         No      0.2   \n",
              "3       1014.9       6.0       1.0     20.0     26.1         No      0.0   \n",
              "4       1015.0       NaN       NaN     22.2     22.6         No      0.4   \n",
              "\n",
              "   RainTomorrow  \n",
              "0            No  \n",
              "1            No  \n",
              "2            No  \n",
              "3            No  \n",
              "4            No  \n",
              "\n",
              "[5 rows x 24 columns]"
            ]
          },
          "execution_count": 5,
          "metadata": {},
          "output_type": "execute_result"
        }
      ],
      "source": [
        "df.head()"
      ]
    },
    {
      "cell_type": "code",
      "execution_count": null,
      "id": "f4d73cde",
      "metadata": {
        "id": "f4d73cde",
        "outputId": "96816278-032a-4b64-b395-a7ae727dfec2"
      },
      "outputs": [
        {
          "data": {
            "text/plain": [
              "Index(['Date', 'Location', 'MinTemp', 'MaxTemp', 'Rainfall', 'Evaporation',\n",
              "       'Sunshine', 'WindGustDir', 'WindGustSpeed', 'WindDir9am', 'WindDir3pm',\n",
              "       'WindSpeed9am', 'WindSpeed3pm', 'Humidity9am', 'Humidity3pm',\n",
              "       'Pressure9am', 'Pressure3pm', 'Cloud9am', 'Cloud3pm', 'Temp9am',\n",
              "       'Temp3pm', 'RainToday', 'RISK_MM', 'RainTomorrow'],\n",
              "      dtype='object')"
            ]
          },
          "execution_count": 6,
          "metadata": {},
          "output_type": "execute_result"
        }
      ],
      "source": [
        "col_names = df.columns\n",
        "\n",
        "col_names"
      ]
    },
    {
      "cell_type": "code",
      "execution_count": null,
      "id": "fd1ef8b0",
      "metadata": {
        "id": "fd1ef8b0"
      },
      "outputs": [],
      "source": [
        "df.drop(['RainTomorrow'], axis=1, inplace=True)"
      ]
    },
    {
      "cell_type": "code",
      "execution_count": null,
      "id": "d9aaaaa2",
      "metadata": {
        "id": "d9aaaaa2",
        "outputId": "b2b76e91-64af-485d-c701-45989418a612"
      },
      "outputs": [
        {
          "name": "stdout",
          "output_type": "stream",
          "text": [
            "<class 'pandas.core.frame.DataFrame'>\n",
            "RangeIndex: 36881 entries, 0 to 36880\n",
            "Data columns (total 23 columns):\n",
            " #   Column         Non-Null Count  Dtype  \n",
            "---  ------         --------------  -----  \n",
            " 0   Date           36881 non-null  object \n",
            " 1   Location       36881 non-null  object \n",
            " 2   MinTemp        36543 non-null  float64\n",
            " 3   MaxTemp        36639 non-null  float64\n",
            " 4   Rainfall       36255 non-null  float64\n",
            " 5   Evaporation    24035 non-null  float64\n",
            " 6   Sunshine       23317 non-null  float64\n",
            " 7   WindGustDir    33513 non-null  object \n",
            " 8   WindGustSpeed  33520 non-null  float64\n",
            " 9   WindDir9am     34072 non-null  object \n",
            " 10  WindDir3pm     35919 non-null  object \n",
            " 11  WindSpeed9am   36219 non-null  float64\n",
            " 12  WindSpeed3pm   36235 non-null  float64\n",
            " 13  Humidity9am    36311 non-null  float64\n",
            " 14  Humidity3pm    36370 non-null  float64\n",
            " 15  Pressure9am    33309 non-null  float64\n",
            " 16  Pressure3pm    33329 non-null  float64\n",
            " 17  Cloud9am       24381 non-null  float64\n",
            " 18  Cloud3pm       23899 non-null  float64\n",
            " 19  Temp9am        36394 non-null  float64\n",
            " 20  Temp3pm        36437 non-null  float64\n",
            " 21  RainToday      36255 non-null  object \n",
            " 22  RISK_MM        36261 non-null  float64\n",
            "dtypes: float64(17), object(6)\n",
            "memory usage: 6.5+ MB\n"
          ]
        }
      ],
      "source": [
        "df.info()"
      ]
    },
    {
      "cell_type": "code",
      "execution_count": null,
      "id": "3de38a5f",
      "metadata": {
        "id": "3de38a5f",
        "outputId": "0e54e4c1-dd8f-4970-921c-41945473f9ed"
      },
      "outputs": [
        {
          "data": {
            "text/html": [
              "<div>\n",
              "<style scoped>\n",
              "    .dataframe tbody tr th:only-of-type {\n",
              "        vertical-align: middle;\n",
              "    }\n",
              "\n",
              "    .dataframe tbody tr th {\n",
              "        vertical-align: top;\n",
              "    }\n",
              "\n",
              "    .dataframe thead th {\n",
              "        text-align: right;\n",
              "    }\n",
              "</style>\n",
              "<table border=\"1\" class=\"dataframe\">\n",
              "  <thead>\n",
              "    <tr style=\"text-align: right;\">\n",
              "      <th></th>\n",
              "      <th>MinTemp</th>\n",
              "      <th>MaxTemp</th>\n",
              "      <th>Rainfall</th>\n",
              "      <th>Evaporation</th>\n",
              "      <th>Sunshine</th>\n",
              "      <th>WindGustSpeed</th>\n",
              "      <th>WindSpeed9am</th>\n",
              "      <th>WindSpeed3pm</th>\n",
              "      <th>Humidity9am</th>\n",
              "      <th>Humidity3pm</th>\n",
              "      <th>Pressure9am</th>\n",
              "      <th>Pressure3pm</th>\n",
              "      <th>Cloud9am</th>\n",
              "      <th>Cloud3pm</th>\n",
              "      <th>Temp9am</th>\n",
              "      <th>Temp3pm</th>\n",
              "      <th>RISK_MM</th>\n",
              "    </tr>\n",
              "  </thead>\n",
              "  <tbody>\n",
              "    <tr>\n",
              "      <th>count</th>\n",
              "      <td>36543.000000</td>\n",
              "      <td>36639.000000</td>\n",
              "      <td>36255.000000</td>\n",
              "      <td>24035.000000</td>\n",
              "      <td>23317.000000</td>\n",
              "      <td>33520.000000</td>\n",
              "      <td>36219.000000</td>\n",
              "      <td>36235.000000</td>\n",
              "      <td>36311.000000</td>\n",
              "      <td>36370.000000</td>\n",
              "      <td>33309.000000</td>\n",
              "      <td>33329.000000</td>\n",
              "      <td>24381.000000</td>\n",
              "      <td>23899.000000</td>\n",
              "      <td>36394.000000</td>\n",
              "      <td>36437.000000</td>\n",
              "      <td>36261.000000</td>\n",
              "    </tr>\n",
              "    <tr>\n",
              "      <th>mean</th>\n",
              "      <td>12.235966</td>\n",
              "      <td>22.939491</td>\n",
              "      <td>2.554823</td>\n",
              "      <td>5.189544</td>\n",
              "      <td>7.544688</td>\n",
              "      <td>40.390573</td>\n",
              "      <td>14.217427</td>\n",
              "      <td>18.874928</td>\n",
              "      <td>69.146953</td>\n",
              "      <td>52.307369</td>\n",
              "      <td>1017.283152</td>\n",
              "      <td>1014.967769</td>\n",
              "      <td>4.331488</td>\n",
              "      <td>4.462321</td>\n",
              "      <td>16.905688</td>\n",
              "      <td>21.485808</td>\n",
              "      <td>2.554748</td>\n",
              "    </tr>\n",
              "    <tr>\n",
              "      <th>std</th>\n",
              "      <td>6.389832</td>\n",
              "      <td>6.988266</td>\n",
              "      <td>9.081329</td>\n",
              "      <td>3.765427</td>\n",
              "      <td>3.833809</td>\n",
              "      <td>13.550613</td>\n",
              "      <td>8.997003</td>\n",
              "      <td>8.791849</td>\n",
              "      <td>18.300754</td>\n",
              "      <td>20.317082</td>\n",
              "      <td>7.177877</td>\n",
              "      <td>7.077594</td>\n",
              "      <td>2.848750</td>\n",
              "      <td>2.663067</td>\n",
              "      <td>6.428328</td>\n",
              "      <td>6.820848</td>\n",
              "      <td>8.940267</td>\n",
              "    </tr>\n",
              "    <tr>\n",
              "      <th>min</th>\n",
              "      <td>-8.500000</td>\n",
              "      <td>-3.100000</td>\n",
              "      <td>0.000000</td>\n",
              "      <td>0.000000</td>\n",
              "      <td>0.000000</td>\n",
              "      <td>7.000000</td>\n",
              "      <td>0.000000</td>\n",
              "      <td>0.000000</td>\n",
              "      <td>2.000000</td>\n",
              "      <td>1.000000</td>\n",
              "      <td>982.900000</td>\n",
              "      <td>980.200000</td>\n",
              "      <td>0.000000</td>\n",
              "      <td>0.000000</td>\n",
              "      <td>-5.900000</td>\n",
              "      <td>-5.100000</td>\n",
              "      <td>0.000000</td>\n",
              "    </tr>\n",
              "    <tr>\n",
              "      <th>25%</th>\n",
              "      <td>7.600000</td>\n",
              "      <td>17.800000</td>\n",
              "      <td>0.000000</td>\n",
              "      <td>2.600000</td>\n",
              "      <td>4.700000</td>\n",
              "      <td>31.000000</td>\n",
              "      <td>7.000000</td>\n",
              "      <td>13.000000</td>\n",
              "      <td>58.000000</td>\n",
              "      <td>38.000000</td>\n",
              "      <td>1012.500000</td>\n",
              "      <td>1010.100000</td>\n",
              "      <td>1.000000</td>\n",
              "      <td>2.000000</td>\n",
              "      <td>12.300000</td>\n",
              "      <td>16.500000</td>\n",
              "      <td>0.000000</td>\n",
              "    </tr>\n",
              "    <tr>\n",
              "      <th>50%</th>\n",
              "      <td>12.100000</td>\n",
              "      <td>22.300000</td>\n",
              "      <td>0.000000</td>\n",
              "      <td>4.600000</td>\n",
              "      <td>8.400000</td>\n",
              "      <td>39.000000</td>\n",
              "      <td>13.000000</td>\n",
              "      <td>19.000000</td>\n",
              "      <td>70.000000</td>\n",
              "      <td>53.000000</td>\n",
              "      <td>1017.300000</td>\n",
              "      <td>1015.000000</td>\n",
              "      <td>5.000000</td>\n",
              "      <td>5.000000</td>\n",
              "      <td>16.600000</td>\n",
              "      <td>20.900000</td>\n",
              "      <td>0.000000</td>\n",
              "    </tr>\n",
              "    <tr>\n",
              "      <th>75%</th>\n",
              "      <td>17.000000</td>\n",
              "      <td>27.900000</td>\n",
              "      <td>0.800000</td>\n",
              "      <td>7.000000</td>\n",
              "      <td>10.600000</td>\n",
              "      <td>48.000000</td>\n",
              "      <td>20.000000</td>\n",
              "      <td>24.000000</td>\n",
              "      <td>83.000000</td>\n",
              "      <td>66.000000</td>\n",
              "      <td>1022.200000</td>\n",
              "      <td>1019.800000</td>\n",
              "      <td>7.000000</td>\n",
              "      <td>7.000000</td>\n",
              "      <td>21.500000</td>\n",
              "      <td>26.200000</td>\n",
              "      <td>0.800000</td>\n",
              "    </tr>\n",
              "    <tr>\n",
              "      <th>max</th>\n",
              "      <td>30.500000</td>\n",
              "      <td>48.100000</td>\n",
              "      <td>371.000000</td>\n",
              "      <td>81.200000</td>\n",
              "      <td>14.300000</td>\n",
              "      <td>135.000000</td>\n",
              "      <td>87.000000</td>\n",
              "      <td>87.000000</td>\n",
              "      <td>100.000000</td>\n",
              "      <td>100.000000</td>\n",
              "      <td>1041.000000</td>\n",
              "      <td>1039.600000</td>\n",
              "      <td>9.000000</td>\n",
              "      <td>8.000000</td>\n",
              "      <td>37.700000</td>\n",
              "      <td>46.100000</td>\n",
              "      <td>367.600000</td>\n",
              "    </tr>\n",
              "  </tbody>\n",
              "</table>\n",
              "</div>"
            ],
            "text/plain": [
              "            MinTemp       MaxTemp      Rainfall   Evaporation      Sunshine  \\\n",
              "count  36543.000000  36639.000000  36255.000000  24035.000000  23317.000000   \n",
              "mean      12.235966     22.939491      2.554823      5.189544      7.544688   \n",
              "std        6.389832      6.988266      9.081329      3.765427      3.833809   \n",
              "min       -8.500000     -3.100000      0.000000      0.000000      0.000000   \n",
              "25%        7.600000     17.800000      0.000000      2.600000      4.700000   \n",
              "50%       12.100000     22.300000      0.000000      4.600000      8.400000   \n",
              "75%       17.000000     27.900000      0.800000      7.000000     10.600000   \n",
              "max       30.500000     48.100000    371.000000     81.200000     14.300000   \n",
              "\n",
              "       WindGustSpeed  WindSpeed9am  WindSpeed3pm   Humidity9am   Humidity3pm  \\\n",
              "count   33520.000000  36219.000000  36235.000000  36311.000000  36370.000000   \n",
              "mean       40.390573     14.217427     18.874928     69.146953     52.307369   \n",
              "std        13.550613      8.997003      8.791849     18.300754     20.317082   \n",
              "min         7.000000      0.000000      0.000000      2.000000      1.000000   \n",
              "25%        31.000000      7.000000     13.000000     58.000000     38.000000   \n",
              "50%        39.000000     13.000000     19.000000     70.000000     53.000000   \n",
              "75%        48.000000     20.000000     24.000000     83.000000     66.000000   \n",
              "max       135.000000     87.000000     87.000000    100.000000    100.000000   \n",
              "\n",
              "        Pressure9am   Pressure3pm      Cloud9am      Cloud3pm       Temp9am  \\\n",
              "count  33309.000000  33329.000000  24381.000000  23899.000000  36394.000000   \n",
              "mean    1017.283152   1014.967769      4.331488      4.462321     16.905688   \n",
              "std        7.177877      7.077594      2.848750      2.663067      6.428328   \n",
              "min      982.900000    980.200000      0.000000      0.000000     -5.900000   \n",
              "25%     1012.500000   1010.100000      1.000000      2.000000     12.300000   \n",
              "50%     1017.300000   1015.000000      5.000000      5.000000     16.600000   \n",
              "75%     1022.200000   1019.800000      7.000000      7.000000     21.500000   \n",
              "max     1041.000000   1039.600000      9.000000      8.000000     37.700000   \n",
              "\n",
              "            Temp3pm       RISK_MM  \n",
              "count  36437.000000  36261.000000  \n",
              "mean      21.485808      2.554748  \n",
              "std        6.820848      8.940267  \n",
              "min       -5.100000      0.000000  \n",
              "25%       16.500000      0.000000  \n",
              "50%       20.900000      0.000000  \n",
              "75%       26.200000      0.800000  \n",
              "max       46.100000    367.600000  "
            ]
          },
          "execution_count": 9,
          "metadata": {},
          "output_type": "execute_result"
        }
      ],
      "source": [
        "df.describe()"
      ]
    },
    {
      "cell_type": "code",
      "execution_count": null,
      "id": "13a9bc83",
      "metadata": {
        "id": "13a9bc83",
        "outputId": "8f654deb-fcba-42db-adb3-de2df90faf8d"
      },
      "outputs": [
        {
          "data": {
            "text/plain": [
              "620"
            ]
          },
          "execution_count": 10,
          "metadata": {},
          "output_type": "execute_result"
        }
      ],
      "source": [
        "df['RISK_MM'].isnull().sum()"
      ]
    },
    {
      "cell_type": "code",
      "execution_count": null,
      "id": "d5d7ab06",
      "metadata": {
        "id": "d5d7ab06"
      },
      "outputs": [],
      "source": [
        "df = df[df['RISK_MM'].notna()]"
      ]
    },
    {
      "cell_type": "code",
      "execution_count": null,
      "id": "af5ae1ad",
      "metadata": {
        "id": "af5ae1ad",
        "outputId": "1b7f6d49-1e0b-4d79-9706-d44aa5907813"
      },
      "outputs": [
        {
          "name": "stdout",
          "output_type": "stream",
          "text": [
            "<class 'pandas.core.frame.DataFrame'>\n",
            "Int64Index: 36261 entries, 0 to 36880\n",
            "Data columns (total 23 columns):\n",
            " #   Column         Non-Null Count  Dtype  \n",
            "---  ------         --------------  -----  \n",
            " 0   Date           36261 non-null  object \n",
            " 1   Location       36261 non-null  object \n",
            " 2   MinTemp        36056 non-null  float64\n",
            " 3   MaxTemp        36176 non-null  float64\n",
            " 4   Rainfall       35912 non-null  float64\n",
            " 5   Evaporation    23869 non-null  float64\n",
            " 6   Sunshine       23106 non-null  float64\n",
            " 7   WindGustDir    33239 non-null  object \n",
            " 8   WindGustSpeed  33246 non-null  float64\n",
            " 9   WindDir9am     33647 non-null  object \n",
            " 10  WindDir3pm     35460 non-null  object \n",
            " 11  WindSpeed9am   35755 non-null  float64\n",
            " 12  WindSpeed3pm   35771 non-null  float64\n",
            " 13  Humidity9am    35845 non-null  float64\n",
            " 14  Humidity3pm    35903 non-null  float64\n",
            " 15  Pressure9am    32907 non-null  float64\n",
            " 16  Pressure3pm    32933 non-null  float64\n",
            " 17  Cloud9am       24223 non-null  float64\n",
            " 18  Cloud3pm       23744 non-null  float64\n",
            " 19  Temp9am        35926 non-null  float64\n",
            " 20  Temp3pm        35968 non-null  float64\n",
            " 21  RainToday      35912 non-null  object \n",
            " 22  RISK_MM        36261 non-null  float64\n",
            "dtypes: float64(17), object(6)\n",
            "memory usage: 6.6+ MB\n"
          ]
        }
      ],
      "source": [
        "df.info()"
      ]
    },
    {
      "cell_type": "code",
      "execution_count": null,
      "id": "db8df570",
      "metadata": {
        "id": "db8df570",
        "outputId": "a3116f82-8897-4927-eecd-71efea3a4448"
      },
      "outputs": [
        {
          "data": {
            "text/plain": [
              "(array([3.4975e+04, 8.7000e+02, 2.4100e+02, 8.2000e+01, 4.0000e+01,\n",
              "        2.0000e+01, 1.3000e+01, 6.0000e+00, 4.0000e+00, 5.0000e+00,\n",
              "        2.0000e+00, 0.0000e+00, 1.0000e+00, 0.0000e+00, 0.0000e+00,\n",
              "        1.0000e+00, 0.0000e+00, 0.0000e+00, 0.0000e+00, 1.0000e+00]),\n",
              " array([  0.  ,  18.38,  36.76,  55.14,  73.52,  91.9 , 110.28, 128.66,\n",
              "        147.04, 165.42, 183.8 , 202.18, 220.56, 238.94, 257.32, 275.7 ,\n",
              "        294.08, 312.46, 330.84, 349.22, 367.6 ]),\n",
              " <BarContainer object of 20 artists>)"
            ]
          },
          "execution_count": 13,
          "metadata": {},
          "output_type": "execute_result"
        },
        {
          "data": {
            "image/png": "[encoded data removed]",
            "text/plain": [
              "<Figure size 432x288 with 1 Axes>"
            ]
          },
          "metadata": {
            "needs_background": "light"
          },
          "output_type": "display_data"
        }
      ],
      "source": [
        "plt.hist(df[\"RISK_MM\"], bins=20)"
      ]
    },
    {
      "cell_type": "code",
      "execution_count": null,
      "id": "4430b861",
      "metadata": {
        "id": "4430b861",
        "outputId": "f55d50e0-688e-42e4-8d16-3d488a2f0304"
      },
      "outputs": [
        {
          "name": "stdout",
          "output_type": "stream",
          "text": [
            "There are 6 categorical variables\n",
            "\n",
            "The categorical variables are : ['Date', 'Location', 'WindGustDir', 'WindDir9am', 'WindDir3pm', 'RainToday']\n"
          ]
        }
      ],
      "source": [
        "# find categorical variables\n",
        "\n",
        "categorical = [var for var in df.columns if df[var].dtype=='O']\n",
        "\n",
        "print('There are {} categorical variables\\n'.format(len(categorical)))\n",
        "\n",
        "print('The categorical variables are :', categorical)"
      ]
    },
    {
      "cell_type": "code",
      "execution_count": null,
      "id": "8ab65bb8",
      "metadata": {
        "id": "8ab65bb8",
        "outputId": "83a435be-ab49-4847-c252-914dd5c8564c"
      },
      "outputs": [
        {
          "data": {
            "text/html": [
              "<div>\n",
              "<style scoped>\n",
              "    .dataframe tbody tr th:only-of-type {\n",
              "        vertical-align: middle;\n",
              "    }\n",
              "\n",
              "    .dataframe tbody tr th {\n",
              "        vertical-align: top;\n",
              "    }\n",
              "\n",
              "    .dataframe thead th {\n",
              "        text-align: right;\n",
              "    }\n",
              "</style>\n",
              "<table border=\"1\" class=\"dataframe\">\n",
              "  <thead>\n",
              "    <tr style=\"text-align: right;\">\n",
              "      <th></th>\n",
              "      <th>Date</th>\n",
              "      <th>Location</th>\n",
              "      <th>WindGustDir</th>\n",
              "      <th>WindDir9am</th>\n",
              "      <th>WindDir3pm</th>\n",
              "      <th>RainToday</th>\n",
              "    </tr>\n",
              "  </thead>\n",
              "  <tbody>\n",
              "    <tr>\n",
              "      <th>0</th>\n",
              "      <td>5/18/2009</td>\n",
              "      <td>Hobart</td>\n",
              "      <td>NW</td>\n",
              "      <td>WSW</td>\n",
              "      <td>SSE</td>\n",
              "      <td>No</td>\n",
              "    </tr>\n",
              "    <tr>\n",
              "      <th>1</th>\n",
              "      <td>7/3/2009</td>\n",
              "      <td>Launceston</td>\n",
              "      <td>SSW</td>\n",
              "      <td>E</td>\n",
              "      <td>SW</td>\n",
              "      <td>No</td>\n",
              "    </tr>\n",
              "    <tr>\n",
              "      <th>2</th>\n",
              "      <td>2/18/2010</td>\n",
              "      <td>Williamtown</td>\n",
              "      <td>SSE</td>\n",
              "      <td>SSE</td>\n",
              "      <td>SSE</td>\n",
              "      <td>No</td>\n",
              "    </tr>\n",
              "    <tr>\n",
              "      <th>3</th>\n",
              "      <td>3/4/2010</td>\n",
              "      <td>PerthAirport</td>\n",
              "      <td>SW</td>\n",
              "      <td>SSE</td>\n",
              "      <td>SW</td>\n",
              "      <td>No</td>\n",
              "    </tr>\n",
              "    <tr>\n",
              "      <th>4</th>\n",
              "      <td>9/9/2010</td>\n",
              "      <td>GoldCoast</td>\n",
              "      <td>NNW</td>\n",
              "      <td>WNW</td>\n",
              "      <td>N</td>\n",
              "      <td>No</td>\n",
              "    </tr>\n",
              "  </tbody>\n",
              "</table>\n",
              "</div>"
            ],
            "text/plain": [
              "        Date      Location WindGustDir WindDir9am WindDir3pm RainToday\n",
              "0  5/18/2009        Hobart          NW        WSW        SSE        No\n",
              "1   7/3/2009    Launceston         SSW          E         SW        No\n",
              "2  2/18/2010   Williamtown         SSE        SSE        SSE        No\n",
              "3   3/4/2010  PerthAirport          SW        SSE         SW        No\n",
              "4   9/9/2010     GoldCoast         NNW        WNW          N        No"
            ]
          },
          "execution_count": 15,
          "metadata": {},
          "output_type": "execute_result"
        }
      ],
      "source": [
        "# view the categorical variables\n",
        "\n",
        "df[categorical].head()"
      ]
    },
    {
      "cell_type": "code",
      "execution_count": null,
      "id": "67eba9a9",
      "metadata": {
        "id": "67eba9a9",
        "outputId": "479dc895-3543-4b2b-a460-e8981a5c03bc"
      },
      "outputs": [
        {
          "data": {
            "text/plain": [
              "Date              0\n",
              "Location          0\n",
              "WindGustDir    3022\n",
              "WindDir9am     2614\n",
              "WindDir3pm      801\n",
              "RainToday       349\n",
              "dtype: int64"
            ]
          },
          "execution_count": 16,
          "metadata": {},
          "output_type": "execute_result"
        }
      ],
      "source": [
        "# check missing values in categorical variables\n",
        "\n",
        "df[categorical].isnull().sum()"
      ]
    },
    {
      "cell_type": "code",
      "execution_count": null,
      "id": "87528112",
      "metadata": {
        "id": "87528112",
        "outputId": "3ce9ad7d-fa53-43c0-f05b-2a08ceada5bb"
      },
      "outputs": [
        {
          "name": "stdout",
          "output_type": "stream",
          "text": [
            "Date  contains  1473  labels\n",
            "Location  contains  46  labels\n",
            "WindGustDir  contains  17  labels\n",
            "WindDir9am  contains  17  labels\n",
            "WindDir3pm  contains  17  labels\n",
            "RainToday  contains  3  labels\n"
          ]
        }
      ],
      "source": [
        "# check for cardinality in categorical variables\n",
        "\n",
        "for var in categorical:\n",
        "    \n",
        "    print(var, ' contains ', len(df[var].unique()), ' labels')"
      ]
    },
    {
      "cell_type": "code",
      "execution_count": null,
      "id": "ea3c0578",
      "metadata": {
        "id": "ea3c0578",
        "outputId": "dcbc51a7-4adc-4c55-bfd3-9f54dde329cf"
      },
      "outputs": [
        {
          "data": {
            "text/plain": [
              "dtype('O')"
            ]
          },
          "execution_count": 18,
          "metadata": {},
          "output_type": "execute_result"
        }
      ],
      "source": [
        "df['Date'].dtypes"
      ]
    },
    {
      "cell_type": "code",
      "execution_count": null,
      "id": "51ee7227",
      "metadata": {
        "id": "51ee7227"
      },
      "outputs": [],
      "source": [
        "# parse the dates, currently coded as strings, into datetime format\n",
        "\n",
        "df['Date'] = pd.to_datetime(df['Date'])"
      ]
    },
    {
      "cell_type": "code",
      "execution_count": null,
      "id": "89903105",
      "metadata": {
        "id": "89903105",
        "outputId": "2724b812-3381-4e7f-963a-4907f666ff3e"
      },
      "outputs": [
        {
          "data": {
            "text/plain": [
              "0    2009\n",
              "1    2009\n",
              "2    2010\n",
              "3    2010\n",
              "4    2010\n",
              "Name: Year, dtype: int64"
            ]
          },
          "execution_count": 20,
          "metadata": {},
          "output_type": "execute_result"
        }
      ],
      "source": [
        "# extract year from date\n",
        "\n",
        "df['Year'] = df['Date'].dt.year\n",
        "\n",
        "df['Year'].head()"
      ]
    },
    {
      "cell_type": "code",
      "execution_count": null,
      "id": "5e1e2d65",
      "metadata": {
        "id": "5e1e2d65",
        "outputId": "d2581b44-bcfd-41aa-ba8d-be1e6aa02b6c"
      },
      "outputs": [
        {
          "data": {
            "text/plain": [
              "0    5\n",
              "1    7\n",
              "2    2\n",
              "3    3\n",
              "4    9\n",
              "Name: Month, dtype: int64"
            ]
          },
          "execution_count": 21,
          "metadata": {},
          "output_type": "execute_result"
        }
      ],
      "source": [
        "# extract month from date\n",
        "\n",
        "df['Month'] = df['Date'].dt.month\n",
        "\n",
        "df['Month'].head()"
      ]
    },
    {
      "cell_type": "code",
      "execution_count": null,
      "id": "8534acdb",
      "metadata": {
        "id": "8534acdb",
        "outputId": "4410d375-7891-4aef-8cd9-eafefb48e1ab"
      },
      "outputs": [
        {
          "data": {
            "text/plain": [
              "0    18\n",
              "1     3\n",
              "2    18\n",
              "3     4\n",
              "4     9\n",
              "Name: Day, dtype: int64"
            ]
          },
          "execution_count": 22,
          "metadata": {},
          "output_type": "execute_result"
        }
      ],
      "source": [
        "# extract day from date\n",
        "\n",
        "df['Day'] = df['Date'].dt.day\n",
        "\n",
        "df['Day'].head()"
      ]
    },
    {
      "cell_type": "code",
      "execution_count": null,
      "id": "fcf1d2b9",
      "metadata": {
        "id": "fcf1d2b9",
        "outputId": "a8da2dfe-2fa4-4de5-9aa4-2b5686bf969c"
      },
      "outputs": [
        {
          "name": "stdout",
          "output_type": "stream",
          "text": [
            "<class 'pandas.core.frame.DataFrame'>\n",
            "Int64Index: 36261 entries, 0 to 36880\n",
            "Data columns (total 26 columns):\n",
            " #   Column         Non-Null Count  Dtype         \n",
            "---  ------         --------------  -----         \n",
            " 0   Date           36261 non-null  datetime64[ns]\n",
            " 1   Location       36261 non-null  object        \n",
            " 2   MinTemp        36056 non-null  float64       \n",
            " 3   MaxTemp        36176 non-null  float64       \n",
            " 4   Rainfall       35912 non-null  float64       \n",
            " 5   Evaporation    23869 non-null  float64       \n",
            " 6   Sunshine       23106 non-null  float64       \n",
            " 7   WindGustDir    33239 non-null  object        \n",
            " 8   WindGustSpeed  33246 non-null  float64       \n",
            " 9   WindDir9am     33647 non-null  object        \n",
            " 10  WindDir3pm     35460 non-null  object        \n",
            " 11  WindSpeed9am   35755 non-null  float64       \n",
            " 12  WindSpeed3pm   35771 non-null  float64       \n",
            " 13  Humidity9am    35845 non-null  float64       \n",
            " 14  Humidity3pm    35903 non-null  float64       \n",
            " 15  Pressure9am    32907 non-null  float64       \n",
            " 16  Pressure3pm    32933 non-null  float64       \n",
            " 17  Cloud9am       24223 non-null  float64       \n",
            " 18  Cloud3pm       23744 non-null  float64       \n",
            " 19  Temp9am        35926 non-null  float64       \n",
            " 20  Temp3pm        35968 non-null  float64       \n",
            " 21  RainToday      35912 non-null  object        \n",
            " 22  RISK_MM        36261 non-null  float64       \n",
            " 23  Year           36261 non-null  int64         \n",
            " 24  Month          36261 non-null  int64         \n",
            " 25  Day            36261 non-null  int64         \n",
            "dtypes: datetime64[ns](1), float64(17), int64(3), object(5)\n",
            "memory usage: 7.5+ MB\n"
          ]
        }
      ],
      "source": [
        "# again view the summary of dataset\n",
        "\n",
        "df.info()"
      ]
    },
    {
      "cell_type": "code",
      "execution_count": null,
      "id": "5d6544b9",
      "metadata": {
        "id": "5d6544b9"
      },
      "outputs": [],
      "source": [
        "# drop the original Date variable\n",
        "\n",
        "df.drop('Date', axis=1, inplace = True)"
      ]
    },
    {
      "cell_type": "code",
      "execution_count": null,
      "id": "e312d337",
      "metadata": {
        "id": "e312d337",
        "outputId": "565f2e9d-aec4-4e00-9b3c-85fbe4f0df8b"
      },
      "outputs": [
        {
          "data": {
            "text/html": [
              "<div>\n",
              "<style scoped>\n",
              "    .dataframe tbody tr th:only-of-type {\n",
              "        vertical-align: middle;\n",
              "    }\n",
              "\n",
              "    .dataframe tbody tr th {\n",
              "        vertical-align: top;\n",
              "    }\n",
              "\n",
              "    .dataframe thead th {\n",
              "        text-align: right;\n",
              "    }\n",
              "</style>\n",
              "<table border=\"1\" class=\"dataframe\">\n",
              "  <thead>\n",
              "    <tr style=\"text-align: right;\">\n",
              "      <th></th>\n",
              "      <th>Location</th>\n",
              "      <th>MinTemp</th>\n",
              "      <th>MaxTemp</th>\n",
              "      <th>Rainfall</th>\n",
              "      <th>Evaporation</th>\n",
              "      <th>Sunshine</th>\n",
              "      <th>WindGustDir</th>\n",
              "      <th>WindGustSpeed</th>\n",
              "      <th>WindDir9am</th>\n",
              "      <th>WindDir3pm</th>\n",
              "      <th>...</th>\n",
              "      <th>Pressure3pm</th>\n",
              "      <th>Cloud9am</th>\n",
              "      <th>Cloud3pm</th>\n",
              "      <th>Temp9am</th>\n",
              "      <th>Temp3pm</th>\n",
              "      <th>RainToday</th>\n",
              "      <th>RISK_MM</th>\n",
              "      <th>Year</th>\n",
              "      <th>Month</th>\n",
              "      <th>Day</th>\n",
              "    </tr>\n",
              "  </thead>\n",
              "  <tbody>\n",
              "    <tr>\n",
              "      <th>0</th>\n",
              "      <td>Hobart</td>\n",
              "      <td>5.1</td>\n",
              "      <td>14.3</td>\n",
              "      <td>0.0</td>\n",
              "      <td>1.8</td>\n",
              "      <td>8.9</td>\n",
              "      <td>NW</td>\n",
              "      <td>30.0</td>\n",
              "      <td>WSW</td>\n",
              "      <td>SSE</td>\n",
              "      <td>...</td>\n",
              "      <td>1022.2</td>\n",
              "      <td>1.0</td>\n",
              "      <td>1.0</td>\n",
              "      <td>9.1</td>\n",
              "      <td>13.3</td>\n",
              "      <td>No</td>\n",
              "      <td>0.0</td>\n",
              "      <td>2009</td>\n",
              "      <td>5</td>\n",
              "      <td>18</td>\n",
              "    </tr>\n",
              "    <tr>\n",
              "      <th>1</th>\n",
              "      <td>Launceston</td>\n",
              "      <td>1.1</td>\n",
              "      <td>14.5</td>\n",
              "      <td>0.4</td>\n",
              "      <td>NaN</td>\n",
              "      <td>NaN</td>\n",
              "      <td>SSW</td>\n",
              "      <td>50.0</td>\n",
              "      <td>E</td>\n",
              "      <td>SW</td>\n",
              "      <td>...</td>\n",
              "      <td>1002.4</td>\n",
              "      <td>NaN</td>\n",
              "      <td>NaN</td>\n",
              "      <td>1.3</td>\n",
              "      <td>13.7</td>\n",
              "      <td>No</td>\n",
              "      <td>0.0</td>\n",
              "      <td>2009</td>\n",
              "      <td>7</td>\n",
              "      <td>3</td>\n",
              "    </tr>\n",
              "    <tr>\n",
              "      <th>2</th>\n",
              "      <td>Williamtown</td>\n",
              "      <td>19.7</td>\n",
              "      <td>26.2</td>\n",
              "      <td>0.0</td>\n",
              "      <td>7.2</td>\n",
              "      <td>7.2</td>\n",
              "      <td>SSE</td>\n",
              "      <td>41.0</td>\n",
              "      <td>SSE</td>\n",
              "      <td>SSE</td>\n",
              "      <td>...</td>\n",
              "      <td>1021.9</td>\n",
              "      <td>6.0</td>\n",
              "      <td>4.0</td>\n",
              "      <td>22.7</td>\n",
              "      <td>24.4</td>\n",
              "      <td>No</td>\n",
              "      <td>0.2</td>\n",
              "      <td>2010</td>\n",
              "      <td>2</td>\n",
              "      <td>18</td>\n",
              "    </tr>\n",
              "    <tr>\n",
              "      <th>3</th>\n",
              "      <td>PerthAirport</td>\n",
              "      <td>16.6</td>\n",
              "      <td>28.0</td>\n",
              "      <td>0.0</td>\n",
              "      <td>9.0</td>\n",
              "      <td>11.3</td>\n",
              "      <td>SW</td>\n",
              "      <td>54.0</td>\n",
              "      <td>SSE</td>\n",
              "      <td>SW</td>\n",
              "      <td>...</td>\n",
              "      <td>1014.9</td>\n",
              "      <td>6.0</td>\n",
              "      <td>1.0</td>\n",
              "      <td>20.0</td>\n",
              "      <td>26.1</td>\n",
              "      <td>No</td>\n",
              "      <td>0.0</td>\n",
              "      <td>2010</td>\n",
              "      <td>3</td>\n",
              "      <td>4</td>\n",
              "    </tr>\n",
              "    <tr>\n",
              "      <th>4</th>\n",
              "      <td>GoldCoast</td>\n",
              "      <td>14.6</td>\n",
              "      <td>25.3</td>\n",
              "      <td>0.0</td>\n",
              "      <td>NaN</td>\n",
              "      <td>NaN</td>\n",
              "      <td>NNW</td>\n",
              "      <td>43.0</td>\n",
              "      <td>WNW</td>\n",
              "      <td>N</td>\n",
              "      <td>...</td>\n",
              "      <td>1015.0</td>\n",
              "      <td>NaN</td>\n",
              "      <td>NaN</td>\n",
              "      <td>22.2</td>\n",
              "      <td>22.6</td>\n",
              "      <td>No</td>\n",
              "      <td>0.4</td>\n",
              "      <td>2010</td>\n",
              "      <td>9</td>\n",
              "      <td>9</td>\n",
              "    </tr>\n",
              "  </tbody>\n",
              "</table>\n",
              "<p>5 rows × 25 columns</p>\n",
              "</div>"
            ],
            "text/plain": [
              "       Location  MinTemp  MaxTemp  Rainfall  Evaporation  Sunshine  \\\n",
              "0        Hobart      5.1     14.3       0.0          1.8       8.9   \n",
              "1    Launceston      1.1     14.5       0.4          NaN       NaN   \n",
              "2   Williamtown     19.7     26.2       0.0          7.2       7.2   \n",
              "3  PerthAirport     16.6     28.0       0.0          9.0      11.3   \n",
              "4     GoldCoast     14.6     25.3       0.0          NaN       NaN   \n",
              "\n",
              "  WindGustDir  WindGustSpeed WindDir9am WindDir3pm  ...  Pressure3pm  \\\n",
              "0          NW           30.0        WSW        SSE  ...       1022.2   \n",
              "1         SSW           50.0          E         SW  ...       1002.4   \n",
              "2         SSE           41.0        SSE        SSE  ...       1021.9   \n",
              "3          SW           54.0        SSE         SW  ...       1014.9   \n",
              "4         NNW           43.0        WNW          N  ...       1015.0   \n",
              "\n",
              "   Cloud9am  Cloud3pm  Temp9am  Temp3pm  RainToday  RISK_MM  Year  Month  Day  \n",
              "0       1.0       1.0      9.1     13.3         No      0.0  2009      5   18  \n",
              "1       NaN       NaN      1.3     13.7         No      0.0  2009      7    3  \n",
              "2       6.0       4.0     22.7     24.4         No      0.2  2010      2   18  \n",
              "3       6.0       1.0     20.0     26.1         No      0.0  2010      3    4  \n",
              "4       NaN       NaN     22.2     22.6         No      0.4  2010      9    9  \n",
              "\n",
              "[5 rows x 25 columns]"
            ]
          },
          "execution_count": 25,
          "metadata": {},
          "output_type": "execute_result"
        }
      ],
      "source": [
        "# preview the dataset again\n",
        "\n",
        "df.head()"
      ]
    },
    {
      "cell_type": "code",
      "execution_count": null,
      "id": "3d12c400",
      "metadata": {
        "id": "3d12c400"
      },
      "outputs": [],
      "source": [
        "df.RainToday = df.RainToday.fillna('No')"
      ]
    },
    {
      "cell_type": "code",
      "execution_count": null,
      "id": "114ac77f",
      "metadata": {
        "id": "114ac77f",
        "outputId": "17b792d6-c639-4ab5-f67e-691c7c2d9edf"
      },
      "outputs": [
        {
          "name": "stdout",
          "output_type": "stream",
          "text": [
            "Rainfall outliers are values < -2.4000000000000004 or > 3.2\n"
          ]
        }
      ],
      "source": [
        "# find outliers for Rainfall variable\n",
        "\n",
        "IQR = df.Rainfall.quantile(0.75) - df.Rainfall.quantile(0.25)\n",
        "Lower_fence = df.Rainfall.quantile(0.25) - (IQR * 3)\n",
        "Upper_fence = df.Rainfall.quantile(0.75) + (IQR * 3)\n",
        "print('Rainfall outliers are values < {lowerboundary} or > {upperboundary}'.format(lowerboundary=Lower_fence, upperboundary=Upper_fence))"
      ]
    },
    {
      "cell_type": "code",
      "execution_count": null,
      "id": "fc089a90",
      "metadata": {
        "id": "fc089a90",
        "outputId": "5af80db1-27e6-4bbf-9df6-da6fd2ad0b2e"
      },
      "outputs": [
        {
          "name": "stdout",
          "output_type": "stream",
          "text": [
            "Evaporation outliers are values < -10.600000000000001 or > 20.200000000000003\n"
          ]
        }
      ],
      "source": [
        "# find outliers for Evaporation variable\n",
        "\n",
        "IQR = df.Evaporation.quantile(0.75) - df.Evaporation.quantile(0.25)\n",
        "Lower_fence = df.Evaporation.quantile(0.25) - (IQR * 3)\n",
        "Upper_fence = df.Evaporation.quantile(0.75) + (IQR * 3)\n",
        "print('Evaporation outliers are values < {lowerboundary} or > {upperboundary}'.format(lowerboundary=Lower_fence, upperboundary=Upper_fence))"
      ]
    },
    {
      "cell_type": "code",
      "execution_count": null,
      "id": "8f2de9fd",
      "metadata": {
        "id": "8f2de9fd",
        "outputId": "786a3fcd-7e26-46bb-dba5-4122d548c557"
      },
      "outputs": [
        {
          "name": "stdout",
          "output_type": "stream",
          "text": [
            "WindSpeed9am outliers are values < -32.0 or > 59.0\n"
          ]
        }
      ],
      "source": [
        "# find outliers for WindSpeed9am variable\n",
        "\n",
        "IQR = df.WindSpeed9am.quantile(0.75) - df.WindSpeed9am.quantile(0.25)\n",
        "Lower_fence = df.WindSpeed9am.quantile(0.25) - (IQR * 3)\n",
        "Upper_fence = df.WindSpeed9am.quantile(0.75) + (IQR * 3)\n",
        "print('WindSpeed9am outliers are values < {lowerboundary} or > {upperboundary}'.format(lowerboundary=Lower_fence, upperboundary=Upper_fence))"
      ]
    },
    {
      "cell_type": "code",
      "execution_count": null,
      "id": "43a3caf7",
      "metadata": {
        "id": "43a3caf7",
        "outputId": "eb5b6467-ba01-4b3f-fe31-183cbd38821b"
      },
      "outputs": [
        {
          "name": "stdout",
          "output_type": "stream",
          "text": [
            "WindSpeed3pm outliers are values < -20.0 or > 57.0\n"
          ]
        }
      ],
      "source": [
        "# find outliers for WindSpeed3pm variable\n",
        "\n",
        "IQR = df.WindSpeed3pm.quantile(0.75) - df.WindSpeed3pm.quantile(0.25)\n",
        "Lower_fence = df.WindSpeed3pm.quantile(0.25) - (IQR * 3)\n",
        "Upper_fence = df.WindSpeed3pm.quantile(0.75) + (IQR * 3)\n",
        "print('WindSpeed3pm outliers are values < {lowerboundary} or > {upperboundary}'.format(lowerboundary=Lower_fence, upperboundary=Upper_fence))"
      ]
    },
    {
      "cell_type": "code",
      "execution_count": null,
      "id": "e768bb62",
      "metadata": {
        "id": "e768bb62"
      },
      "outputs": [],
      "source": [
        "correlation = df.corr()"
      ]
    },
    {
      "cell_type": "code",
      "execution_count": null,
      "id": "4529ff12",
      "metadata": {
        "id": "4529ff12",
        "outputId": "fddb4367-0eca-45fe-fd0e-5a28bb53dc8b"
      },
      "outputs": [
        {
          "data": {
            "image/png": "[encoded data removed]",
            "text/plain": [
              "<Figure size 1440x1440 with 2 Axes>"
            ]
          },
          "metadata": {
            "needs_background": "light"
          },
          "output_type": "display_data"
        }
      ],
      "source": [
        "plt.figure(figsize=(20,20))\n",
        "plt.title('Correlation Heatmap of Rain in Australia Dataset')\n",
        "ax = sns.heatmap(correlation, square=True, annot=True, fmt='.2f', linecolor='white')\n",
        "ax.set_xticklabels(ax.get_xticklabels(), rotation=90)\n",
        "ax.set_yticklabels(ax.get_yticklabels(), rotation=30)           \n",
        "plt.show()"
      ]
    },
    {
      "cell_type": "code",
      "execution_count": null,
      "id": "bd78b9ce",
      "metadata": {
        "id": "bd78b9ce"
      },
      "outputs": [],
      "source": [
        "num_var = ['MinTemp', 'MaxTemp', 'Temp9am', 'Temp3pm', 'WindGustSpeed', 'WindSpeed3pm', 'Pressure9am', 'Pressure3pm']"
      ]
    },
    {
      "cell_type": "code",
      "execution_count": null,
      "id": "84b66cf3",
      "metadata": {
        "id": "84b66cf3"
      },
      "outputs": [],
      "source": [
        "#sns.pairplot(df[num_var], kind='scatter', diag_kind='hist', palette='Rainbow')\n",
        "#plt.show()"
      ]
    },
    {
      "cell_type": "code",
      "execution_count": null,
      "id": "72cbe40e",
      "metadata": {
        "id": "72cbe40e"
      },
      "outputs": [],
      "source": [
        "X = df.drop(['RISK_MM'], axis=1)\n",
        "\n",
        "y = df['RISK_MM']"
      ]
    },
    {
      "cell_type": "code",
      "execution_count": null,
      "id": "1b7f4560",
      "metadata": {
        "id": "1b7f4560",
        "outputId": "708dd040-1402-4c1a-8702-748f016e2ed1"
      },
      "outputs": [
        {
          "data": {
            "text/plain": [
              "Index(['Location', 'MinTemp', 'MaxTemp', 'Rainfall', 'Evaporation', 'Sunshine',\n",
              "       'WindGustDir', 'WindGustSpeed', 'WindDir9am', 'WindDir3pm',\n",
              "       'WindSpeed9am', 'WindSpeed3pm', 'Humidity9am', 'Humidity3pm',\n",
              "       'Pressure9am', 'Pressure3pm', 'Cloud9am', 'Cloud3pm', 'Temp9am',\n",
              "       'Temp3pm', 'RainToday', 'Year', 'Month', 'Day'],\n",
              "      dtype='object')"
            ]
          },
          "execution_count": 36,
          "metadata": {},
          "output_type": "execute_result"
        }
      ],
      "source": [
        "X.columns"
      ]
    },
    {
      "cell_type": "code",
      "execution_count": null,
      "id": "15852f8e",
      "metadata": {
        "id": "15852f8e",
        "outputId": "6031b11f-d4a0-4559-e231-e41cf9892462"
      },
      "outputs": [
        {
          "data": {
            "text/plain": [
              "count    36261.000000\n",
              "mean         2.554748\n",
              "std          8.940267\n",
              "min          0.000000\n",
              "25%          0.000000\n",
              "50%          0.000000\n",
              "75%          0.800000\n",
              "max        367.600000\n",
              "Name: RISK_MM, dtype: float64"
            ]
          },
          "execution_count": 37,
          "metadata": {},
          "output_type": "execute_result"
        }
      ],
      "source": [
        "y.describe()"
      ]
    },
    {
      "cell_type": "code",
      "execution_count": null,
      "id": "cf78efdd",
      "metadata": {
        "id": "cf78efdd",
        "outputId": "570639a3-1e01-4518-c8c6-69cd8929ca99"
      },
      "outputs": [
        {
          "data": {
            "text/plain": [
              "(array([3.0926e+04, 3.6020e+03, 1.2330e+03, 3.5300e+02, 9.4000e+01,\n",
              "        3.4000e+01, 1.2000e+01, 4.0000e+00, 2.0000e+00, 1.0000e+00]),\n",
              " array([ 0.        ,  1.91728975,  3.83457951,  5.75186926,  7.66915902,\n",
              "         9.58644877, 11.50373852, 13.42102828, 15.33831803, 17.25560778,\n",
              "        19.17289754]),\n",
              " <BarContainer object of 10 artists>)"
            ]
          },
          "execution_count": 38,
          "metadata": {},
          "output_type": "execute_result"
        },
        {
          "data": {
            "image/png": "[encoded data removed]",
            "text/plain": [
              "<Figure size 432x288 with 1 Axes>"
            ]
          },
          "metadata": {
            "needs_background": "light"
          },
          "output_type": "display_data"
        }
      ],
      "source": [
        "plt.hist(np.sqrt(y))"
      ]
    },
    {
      "cell_type": "code",
      "execution_count": null,
      "id": "888a7a28",
      "metadata": {
        "id": "888a7a28",
        "outputId": "5d602764-9d32-404c-adab-cf2a73daaf90"
      },
      "outputs": [
        {
          "data": {
            "text/plain": [
              "(array([2.5029e+04, 5.2390e+03, 3.3240e+03, 1.7690e+03, 6.3500e+02,\n",
              "        1.8600e+02, 5.6000e+01, 1.9000e+01, 2.0000e+00, 2.0000e+00]),\n",
              " array([0.        , 0.71634984, 1.43269968, 2.14904952, 2.86539936,\n",
              "        3.58174919, 4.29809903, 5.01444887, 5.73079871, 6.44714855,\n",
              "        7.16349839]),\n",
              " <BarContainer object of 10 artists>)"
            ]
          },
          "execution_count": 39,
          "metadata": {},
          "output_type": "execute_result"
        },
        {
          "data": {
            "image/png": "[encoded data removed]",
            "text/plain": [
              "<Figure size 432x288 with 1 Axes>"
            ]
          },
          "metadata": {
            "needs_background": "light"
          },
          "output_type": "display_data"
        }
      ],
      "source": [
        "plt.hist(np.cbrt(y))"
      ]
    },
    {
      "cell_type": "code",
      "execution_count": null,
      "id": "c3262673",
      "metadata": {
        "id": "c3262673",
        "outputId": "93905dae-bd45-44b5-8a56-436b8da3fbe3"
      },
      "outputs": [
        {
          "data": {
            "text/plain": [
              "(array([2.2768e+04, 3.2710e+03, 4.2290e+03, 3.2140e+03, 1.8510e+03,\n",
              "        6.8600e+02, 1.8100e+02, 4.8000e+01, 1.1000e+01, 2.0000e+00]),\n",
              " array([0.        , 0.43786867, 0.87573735, 1.31360602, 1.75147469,\n",
              "        2.18934337, 2.62721204, 3.06508072, 3.50294939, 3.94081806,\n",
              "        4.37868674]),\n",
              " <BarContainer object of 10 artists>)"
            ]
          },
          "execution_count": 40,
          "metadata": {},
          "output_type": "execute_result"
        },
        {
          "data": {
            "image/png": "[encoded data removed]",
            "text/plain": [
              "<Figure size 432x288 with 1 Axes>"
            ]
          },
          "metadata": {
            "needs_background": "light"
          },
          "output_type": "display_data"
        }
      ],
      "source": [
        "plt.hist(np.power(y,0.25))"
      ]
    },
    {
      "cell_type": "code",
      "execution_count": null,
      "id": "cfc0b1e1",
      "metadata": {
        "id": "cfc0b1e1"
      },
      "outputs": [],
      "source": [
        "#y = np.sqrt(y)"
      ]
    },
    {
      "cell_type": "code",
      "execution_count": null,
      "id": "591c80fe",
      "metadata": {
        "id": "591c80fe"
      },
      "outputs": [],
      "source": [
        "#y = np.cbrt(y)"
      ]
    },
    {
      "cell_type": "code",
      "execution_count": null,
      "id": "0d4caaec",
      "metadata": {
        "id": "0d4caaec"
      },
      "outputs": [],
      "source": [
        "# Using 4th power of y as transformation on target variable as the target variable is skewed\n",
        "y = np.power(y,0.25)"
      ]
    },
    {
      "cell_type": "code",
      "execution_count": null,
      "id": "53a072dd",
      "metadata": {
        "id": "53a072dd"
      },
      "outputs": [],
      "source": [
        "# split X and y into training and testing sets\n",
        "\n",
        "from sklearn.model_selection import train_test_split\n",
        "\n",
        "X_train, X_test, y_train, y_test = train_test_split(X, y, test_size = 0.3, random_state = 10)"
      ]
    },
    {
      "cell_type": "code",
      "execution_count": null,
      "id": "c8d58360",
      "metadata": {
        "id": "c8d58360",
        "outputId": "e48ba9f2-45be-47e1-c287-e44b283e1e24"
      },
      "outputs": [
        {
          "data": {
            "text/plain": [
              "((25382, 24), (10879, 24))"
            ]
          },
          "execution_count": 45,
          "metadata": {},
          "output_type": "execute_result"
        }
      ],
      "source": [
        "# check the shape of X_train and X_test\n",
        "\n",
        "X_train.shape, X_test.shape"
      ]
    },
    {
      "cell_type": "code",
      "execution_count": null,
      "id": "1f067aa5",
      "metadata": {
        "id": "1f067aa5",
        "outputId": "84f73e73-085b-4b85-cb77-3c8bd0124004"
      },
      "outputs": [
        {
          "data": {
            "text/plain": [
              "Index(['Location', 'MinTemp', 'MaxTemp', 'Rainfall', 'Evaporation', 'Sunshine',\n",
              "       'WindGustDir', 'WindGustSpeed', 'WindDir9am', 'WindDir3pm',\n",
              "       'WindSpeed9am', 'WindSpeed3pm', 'Humidity9am', 'Humidity3pm',\n",
              "       'Pressure9am', 'Pressure3pm', 'Cloud9am', 'Cloud3pm', 'Temp9am',\n",
              "       'Temp3pm', 'RainToday', 'Year', 'Month', 'Day'],\n",
              "      dtype='object')"
            ]
          },
          "execution_count": 46,
          "metadata": {},
          "output_type": "execute_result"
        }
      ],
      "source": [
        "X_train.columns"
      ]
    },
    {
      "cell_type": "code",
      "execution_count": null,
      "id": "44b620c6",
      "metadata": {
        "id": "44b620c6",
        "outputId": "9dde9baa-7f5f-4b1b-d305-e12132718c40"
      },
      "outputs": [
        {
          "data": {
            "text/plain": [
              "Location          object\n",
              "MinTemp          float64\n",
              "MaxTemp          float64\n",
              "Rainfall         float64\n",
              "Evaporation      float64\n",
              "Sunshine         float64\n",
              "WindGustDir       object\n",
              "WindGustSpeed    float64\n",
              "WindDir9am        object\n",
              "WindDir3pm        object\n",
              "WindSpeed9am     float64\n",
              "WindSpeed3pm     float64\n",
              "Humidity9am      float64\n",
              "Humidity3pm      float64\n",
              "Pressure9am      float64\n",
              "Pressure3pm      float64\n",
              "Cloud9am         float64\n",
              "Cloud3pm         float64\n",
              "Temp9am          float64\n",
              "Temp3pm          float64\n",
              "RainToday         object\n",
              "Year               int64\n",
              "Month              int64\n",
              "Day                int64\n",
              "dtype: object"
            ]
          },
          "execution_count": 47,
          "metadata": {},
          "output_type": "execute_result"
        }
      ],
      "source": [
        "# check data types in X_train\n",
        "\n",
        "X_train.dtypes"
      ]
    },
    {
      "cell_type": "code",
      "execution_count": null,
      "id": "ac2c22ef",
      "metadata": {
        "id": "ac2c22ef",
        "outputId": "7bfe5bf8-0f9c-4822-a106-9a18baccb606"
      },
      "outputs": [
        {
          "data": {
            "text/plain": [
              "['Location', 'WindGustDir', 'WindDir9am', 'WindDir3pm', 'RainToday']"
            ]
          },
          "execution_count": 48,
          "metadata": {},
          "output_type": "execute_result"
        }
      ],
      "source": [
        "# display categorical variables\n",
        "\n",
        "categorical = [col for col in X_train.columns if X_train[col].dtypes == 'O']\n",
        "\n",
        "categorical"
      ]
    },
    {
      "cell_type": "code",
      "execution_count": null,
      "id": "b5b9c57a",
      "metadata": {
        "id": "b5b9c57a",
        "outputId": "b028ca32-de38-419d-da58-0973b7548415"
      },
      "outputs": [
        {
          "data": {
            "text/plain": [
              "['MinTemp',\n",
              " 'MaxTemp',\n",
              " 'Rainfall',\n",
              " 'Evaporation',\n",
              " 'Sunshine',\n",
              " 'WindGustSpeed',\n",
              " 'WindSpeed9am',\n",
              " 'WindSpeed3pm',\n",
              " 'Humidity9am',\n",
              " 'Humidity3pm',\n",
              " 'Pressure9am',\n",
              " 'Pressure3pm',\n",
              " 'Cloud9am',\n",
              " 'Cloud3pm',\n",
              " 'Temp9am',\n",
              " 'Temp3pm',\n",
              " 'Year',\n",
              " 'Month',\n",
              " 'Day']"
            ]
          },
          "execution_count": 49,
          "metadata": {},
          "output_type": "execute_result"
        }
      ],
      "source": [
        "# display numerical variables\n",
        "\n",
        "numerical = [col for col in X_train.columns if X_train[col].dtypes != 'O']\n",
        "\n",
        "numerical"
      ]
    },
    {
      "cell_type": "code",
      "execution_count": null,
      "id": "01547706",
      "metadata": {
        "id": "01547706",
        "outputId": "41cae308-2c8d-4b0d-e9fd-9a8eaab73440"
      },
      "outputs": [
        {
          "data": {
            "text/plain": [
              "MinTemp           146\n",
              "MaxTemp            65\n",
              "Rainfall          245\n",
              "Evaporation      8664\n",
              "Sunshine         9185\n",
              "WindGustSpeed    2107\n",
              "WindSpeed9am      340\n",
              "WindSpeed3pm      330\n",
              "Humidity9am       290\n",
              "Humidity3pm       248\n",
              "Pressure9am      2336\n",
              "Pressure3pm      2317\n",
              "Cloud9am         8347\n",
              "Cloud3pm         8691\n",
              "Temp9am           233\n",
              "Temp3pm           204\n",
              "Year                0\n",
              "Month               0\n",
              "Day                 0\n",
              "dtype: int64"
            ]
          },
          "execution_count": 50,
          "metadata": {},
          "output_type": "execute_result"
        }
      ],
      "source": [
        "# check missing values in numerical variables in X_train\n",
        "\n",
        "X_train[numerical].isnull().sum()"
      ]
    },
    {
      "cell_type": "code",
      "execution_count": null,
      "id": "f41849a5",
      "metadata": {
        "id": "f41849a5",
        "outputId": "06e58757-0136-401a-9ce7-cd44672696b1"
      },
      "outputs": [
        {
          "data": {
            "text/plain": [
              "MinTemp            59\n",
              "MaxTemp            20\n",
              "Rainfall          104\n",
              "Evaporation      3728\n",
              "Sunshine         3970\n",
              "WindGustSpeed     908\n",
              "WindSpeed9am      166\n",
              "WindSpeed3pm      160\n",
              "Humidity9am       126\n",
              "Humidity3pm       110\n",
              "Pressure9am      1018\n",
              "Pressure3pm      1011\n",
              "Cloud9am         3691\n",
              "Cloud3pm         3826\n",
              "Temp9am           102\n",
              "Temp3pm            89\n",
              "Year                0\n",
              "Month               0\n",
              "Day                 0\n",
              "dtype: int64"
            ]
          },
          "execution_count": 51,
          "metadata": {},
          "output_type": "execute_result"
        }
      ],
      "source": [
        "# check missing values in numerical variables in X_test\n",
        "\n",
        "X_test[numerical].isnull().sum()"
      ]
    },
    {
      "cell_type": "code",
      "execution_count": null,
      "id": "ba26c06a",
      "metadata": {
        "id": "ba26c06a",
        "outputId": "7ea5870e-cedf-4c25-8433-6a0777bf305e"
      },
      "outputs": [
        {
          "name": "stdout",
          "output_type": "stream",
          "text": [
            "MinTemp 0.0058\n",
            "MaxTemp 0.0026\n",
            "Rainfall 0.0097\n",
            "Evaporation 0.3413\n",
            "Sunshine 0.3619\n",
            "WindGustSpeed 0.083\n",
            "WindSpeed9am 0.0134\n",
            "WindSpeed3pm 0.013\n",
            "Humidity9am 0.0114\n",
            "Humidity3pm 0.0098\n",
            "Pressure9am 0.092\n",
            "Pressure3pm 0.0913\n",
            "Cloud9am 0.3289\n",
            "Cloud3pm 0.3424\n",
            "Temp9am 0.0092\n",
            "Temp3pm 0.008\n"
          ]
        }
      ],
      "source": [
        "# print percentage of missing values in the numerical variables in training set\n",
        "\n",
        "for col in numerical:\n",
        "    if X_train[col].isnull().mean()>0:\n",
        "        print(col, round(X_train[col].isnull().mean(),4))"
      ]
    },
    {
      "cell_type": "code",
      "execution_count": null,
      "id": "bcab574f",
      "metadata": {
        "id": "bcab574f"
      },
      "outputs": [],
      "source": [
        "# impute missing values in X_train and X_test with respective column median in X_train\n",
        "\n",
        "for df1 in [X_train, X_test]:\n",
        "    for col in numerical:\n",
        "        col_median=X_train[col].median()\n",
        "        df1[col].fillna(col_median, inplace=True)      "
      ]
    },
    {
      "cell_type": "code",
      "execution_count": null,
      "id": "be7e6adf",
      "metadata": {
        "id": "be7e6adf",
        "outputId": "0570180c-2738-48e3-fab7-115e71d83256"
      },
      "outputs": [
        {
          "data": {
            "text/plain": [
              "MinTemp          0\n",
              "MaxTemp          0\n",
              "Rainfall         0\n",
              "Evaporation      0\n",
              "Sunshine         0\n",
              "WindGustSpeed    0\n",
              "WindSpeed9am     0\n",
              "WindSpeed3pm     0\n",
              "Humidity9am      0\n",
              "Humidity3pm      0\n",
              "Pressure9am      0\n",
              "Pressure3pm      0\n",
              "Cloud9am         0\n",
              "Cloud3pm         0\n",
              "Temp9am          0\n",
              "Temp3pm          0\n",
              "Year             0\n",
              "Month            0\n",
              "Day              0\n",
              "dtype: int64"
            ]
          },
          "execution_count": 54,
          "metadata": {},
          "output_type": "execute_result"
        }
      ],
      "source": [
        "# check again missing values in numerical variables in X_train\n",
        "\n",
        "X_train[numerical].isnull().sum()"
      ]
    },
    {
      "cell_type": "code",
      "execution_count": null,
      "id": "39f4c248",
      "metadata": {
        "id": "39f4c248",
        "outputId": "dd399575-1070-433f-83f1-35fbf653c49e"
      },
      "outputs": [
        {
          "data": {
            "text/plain": [
              "MinTemp          0\n",
              "MaxTemp          0\n",
              "Rainfall         0\n",
              "Evaporation      0\n",
              "Sunshine         0\n",
              "WindGustSpeed    0\n",
              "WindSpeed9am     0\n",
              "WindSpeed3pm     0\n",
              "Humidity9am      0\n",
              "Humidity3pm      0\n",
              "Pressure9am      0\n",
              "Pressure3pm      0\n",
              "Cloud9am         0\n",
              "Cloud3pm         0\n",
              "Temp9am          0\n",
              "Temp3pm          0\n",
              "Year             0\n",
              "Month            0\n",
              "Day              0\n",
              "dtype: int64"
            ]
          },
          "execution_count": 55,
          "metadata": {},
          "output_type": "execute_result"
        }
      ],
      "source": [
        "# check missing values in numerical variables in X_test\n",
        "\n",
        "X_test[numerical].isnull().sum()"
      ]
    },
    {
      "cell_type": "code",
      "execution_count": null,
      "id": "e2dbff59",
      "metadata": {
        "id": "e2dbff59",
        "outputId": "4e97a744-b420-42b4-fa5d-14520d76ab54"
      },
      "outputs": [
        {
          "data": {
            "text/plain": [
              "Location       0.000000\n",
              "WindGustDir    0.083130\n",
              "WindDir9am     0.069222\n",
              "WindDir3pm     0.021551\n",
              "RainToday      0.000000\n",
              "dtype: float64"
            ]
          },
          "execution_count": 56,
          "metadata": {},
          "output_type": "execute_result"
        }
      ],
      "source": [
        "# print percentage of missing values in the categorical variables in training set\n",
        "\n",
        "X_train[categorical].isnull().mean()"
      ]
    },
    {
      "cell_type": "code",
      "execution_count": null,
      "id": "1815602b",
      "metadata": {
        "id": "1815602b",
        "outputId": "4f762703-0656-478b-83e2-5f0bd1a88e92"
      },
      "outputs": [
        {
          "name": "stdout",
          "output_type": "stream",
          "text": [
            "WindGustDir 0.08312977700732803\n",
            "WindDir9am 0.06922228350799779\n",
            "WindDir3pm 0.021550705224174613\n"
          ]
        }
      ],
      "source": [
        "# print categorical variables with missing data\n",
        "\n",
        "for col in categorical:\n",
        "    if X_train[col].isnull().mean()>0:\n",
        "        print(col, (X_train[col].isnull().mean()))"
      ]
    },
    {
      "cell_type": "code",
      "execution_count": null,
      "id": "c5aff41b",
      "metadata": {
        "id": "c5aff41b"
      },
      "outputs": [],
      "source": [
        "# impute missing categorical variables with most frequent value\n",
        "\n",
        "for df2 in [X_train, X_test]:\n",
        "    df2['WindGustDir'].fillna(X_train['WindGustDir'].mode()[0], inplace=True)\n",
        "    df2['WindDir9am'].fillna(X_train['WindDir9am'].mode()[0], inplace=True)\n",
        "    df2['WindDir3pm'].fillna(X_train['WindDir3pm'].mode()[0], inplace=True)\n",
        "    df2['RainToday'].fillna(X_train['RainToday'].mode()[0], inplace=True)"
      ]
    },
    {
      "cell_type": "code",
      "execution_count": null,
      "id": "a1809511",
      "metadata": {
        "id": "a1809511",
        "outputId": "c1ca1e49-94a1-4b7a-b152-a1a921a6652e"
      },
      "outputs": [
        {
          "data": {
            "text/plain": [
              "Location       0\n",
              "WindGustDir    0\n",
              "WindDir9am     0\n",
              "WindDir3pm     0\n",
              "RainToday      0\n",
              "dtype: int64"
            ]
          },
          "execution_count": 59,
          "metadata": {},
          "output_type": "execute_result"
        }
      ],
      "source": [
        "# check missing values in categorical variables in X_train\n",
        "\n",
        "X_train[categorical].isnull().sum()"
      ]
    },
    {
      "cell_type": "code",
      "execution_count": null,
      "id": "ce052c97",
      "metadata": {
        "id": "ce052c97",
        "outputId": "b0d90f09-3acf-492e-c453-b56ae6803b28"
      },
      "outputs": [
        {
          "data": {
            "text/plain": [
              "Location       0\n",
              "WindGustDir    0\n",
              "WindDir9am     0\n",
              "WindDir3pm     0\n",
              "RainToday      0\n",
              "dtype: int64"
            ]
          },
          "execution_count": 60,
          "metadata": {},
          "output_type": "execute_result"
        }
      ],
      "source": [
        "# check missing values in categorical variables in X_test\n",
        "\n",
        "X_test[categorical].isnull().sum()"
      ]
    },
    {
      "cell_type": "code",
      "execution_count": null,
      "id": "5a4ca7a8",
      "metadata": {
        "id": "5a4ca7a8",
        "outputId": "f648abf0-76ba-4741-c209-88e3374d3f66"
      },
      "outputs": [
        {
          "data": {
            "text/plain": [
              "Location         0\n",
              "MinTemp          0\n",
              "MaxTemp          0\n",
              "Rainfall         0\n",
              "Evaporation      0\n",
              "Sunshine         0\n",
              "WindGustDir      0\n",
              "WindGustSpeed    0\n",
              "WindDir9am       0\n",
              "WindDir3pm       0\n",
              "WindSpeed9am     0\n",
              "WindSpeed3pm     0\n",
              "Humidity9am      0\n",
              "Humidity3pm      0\n",
              "Pressure9am      0\n",
              "Pressure3pm      0\n",
              "Cloud9am         0\n",
              "Cloud3pm         0\n",
              "Temp9am          0\n",
              "Temp3pm          0\n",
              "RainToday        0\n",
              "Year             0\n",
              "Month            0\n",
              "Day              0\n",
              "dtype: int64"
            ]
          },
          "execution_count": 61,
          "metadata": {},
          "output_type": "execute_result"
        }
      ],
      "source": [
        "# check missing values in X_train\n",
        "\n",
        "X_train.isnull().sum()"
      ]
    },
    {
      "cell_type": "code",
      "execution_count": null,
      "id": "0ac1288b",
      "metadata": {
        "id": "0ac1288b",
        "outputId": "d2ee8743-caf3-466d-f648-9ade15a355b3"
      },
      "outputs": [
        {
          "data": {
            "text/plain": [
              "Location         0\n",
              "MinTemp          0\n",
              "MaxTemp          0\n",
              "Rainfall         0\n",
              "Evaporation      0\n",
              "Sunshine         0\n",
              "WindGustDir      0\n",
              "WindGustSpeed    0\n",
              "WindDir9am       0\n",
              "WindDir3pm       0\n",
              "WindSpeed9am     0\n",
              "WindSpeed3pm     0\n",
              "Humidity9am      0\n",
              "Humidity3pm      0\n",
              "Pressure9am      0\n",
              "Pressure3pm      0\n",
              "Cloud9am         0\n",
              "Cloud3pm         0\n",
              "Temp9am          0\n",
              "Temp3pm          0\n",
              "RainToday        0\n",
              "Year             0\n",
              "Month            0\n",
              "Day              0\n",
              "dtype: int64"
            ]
          },
          "execution_count": 62,
          "metadata": {},
          "output_type": "execute_result"
        }
      ],
      "source": [
        "# check missing values in X_test\n",
        "\n",
        "X_test.isnull().sum()"
      ]
    },
    {
      "cell_type": "code",
      "execution_count": null,
      "id": "8d294c93",
      "metadata": {
        "id": "8d294c93"
      },
      "outputs": [],
      "source": [
        "def max_value(df3, variable, top):\n",
        "    return np.where(df3[variable]>top, top, df3[variable])\n",
        "\n",
        "for df3 in [X_train, X_test]:\n",
        "    df3['Rainfall'] = max_value(df3, 'Rainfall', 3.2)\n",
        "    df3['Evaporation'] = max_value(df3, 'Evaporation', 21.8)\n",
        "    df3['WindSpeed9am'] = max_value(df3, 'WindSpeed9am', 55)\n",
        "    df3['WindSpeed3pm'] = max_value(df3, 'WindSpeed3pm', 57)"
      ]
    },
    {
      "cell_type": "code",
      "execution_count": null,
      "id": "8f6e8f24",
      "metadata": {
        "id": "8f6e8f24",
        "outputId": "bdb78340-59c3-43b9-b3c8-4caedca1ed3e"
      },
      "outputs": [
        {
          "data": {
            "text/plain": [
              "(3.2, 3.2)"
            ]
          },
          "execution_count": 64,
          "metadata": {},
          "output_type": "execute_result"
        }
      ],
      "source": [
        "X_train.Rainfall.max(), X_test.Rainfall.max()"
      ]
    },
    {
      "cell_type": "code",
      "execution_count": null,
      "id": "d49a062d",
      "metadata": {
        "id": "d49a062d",
        "outputId": "361c4af5-227a-4497-ccc2-09fed6f1c3f7"
      },
      "outputs": [
        {
          "data": {
            "text/plain": [
              "(21.8, 21.8)"
            ]
          },
          "execution_count": 65,
          "metadata": {},
          "output_type": "execute_result"
        }
      ],
      "source": [
        "X_train.Evaporation.max(), X_test.Evaporation.max()"
      ]
    },
    {
      "cell_type": "code",
      "execution_count": null,
      "id": "2af1dcec",
      "metadata": {
        "id": "2af1dcec",
        "outputId": "3683d8d3-8968-49e3-d9ca-88d3bfcd354d"
      },
      "outputs": [
        {
          "data": {
            "text/plain": [
              "(55.0, 55.0)"
            ]
          },
          "execution_count": 66,
          "metadata": {},
          "output_type": "execute_result"
        }
      ],
      "source": [
        "X_train.WindSpeed9am.max(), X_test.WindSpeed9am.max()"
      ]
    },
    {
      "cell_type": "code",
      "execution_count": null,
      "id": "cbb999aa",
      "metadata": {
        "id": "cbb999aa",
        "outputId": "55364d7e-29f3-4544-b868-018d2d6aaa85"
      },
      "outputs": [
        {
          "data": {
            "text/plain": [
              "(57.0, 57.0)"
            ]
          },
          "execution_count": 67,
          "metadata": {},
          "output_type": "execute_result"
        }
      ],
      "source": [
        "X_train.WindSpeed3pm.max(), X_test.WindSpeed3pm.max()"
      ]
    },
    {
      "cell_type": "code",
      "execution_count": null,
      "id": "d54fc290",
      "metadata": {
        "id": "d54fc290",
        "outputId": "035e828b-57d4-42f7-e162-1cb2b8d23512"
      },
      "outputs": [
        {
          "data": {
            "text/html": [
              "<div>\n",
              "<style scoped>\n",
              "    .dataframe tbody tr th:only-of-type {\n",
              "        vertical-align: middle;\n",
              "    }\n",
              "\n",
              "    .dataframe tbody tr th {\n",
              "        vertical-align: top;\n",
              "    }\n",
              "\n",
              "    .dataframe thead th {\n",
              "        text-align: right;\n",
              "    }\n",
              "</style>\n",
              "<table border=\"1\" class=\"dataframe\">\n",
              "  <thead>\n",
              "    <tr style=\"text-align: right;\">\n",
              "      <th></th>\n",
              "      <th>MinTemp</th>\n",
              "      <th>MaxTemp</th>\n",
              "      <th>Rainfall</th>\n",
              "      <th>Evaporation</th>\n",
              "      <th>Sunshine</th>\n",
              "      <th>WindGustSpeed</th>\n",
              "      <th>WindSpeed9am</th>\n",
              "      <th>WindSpeed3pm</th>\n",
              "      <th>Humidity9am</th>\n",
              "      <th>Humidity3pm</th>\n",
              "      <th>Pressure9am</th>\n",
              "      <th>Pressure3pm</th>\n",
              "      <th>Cloud9am</th>\n",
              "      <th>Cloud3pm</th>\n",
              "      <th>Temp9am</th>\n",
              "      <th>Temp3pm</th>\n",
              "      <th>Year</th>\n",
              "      <th>Month</th>\n",
              "      <th>Day</th>\n",
              "    </tr>\n",
              "  </thead>\n",
              "  <tbody>\n",
              "    <tr>\n",
              "      <th>count</th>\n",
              "      <td>25382.000000</td>\n",
              "      <td>25382.000000</td>\n",
              "      <td>25382.000000</td>\n",
              "      <td>25382.000000</td>\n",
              "      <td>25382.000000</td>\n",
              "      <td>25382.000000</td>\n",
              "      <td>25382.000000</td>\n",
              "      <td>25382.000000</td>\n",
              "      <td>25382.000000</td>\n",
              "      <td>25382.000000</td>\n",
              "      <td>25382.000000</td>\n",
              "      <td>25382.000000</td>\n",
              "      <td>25382.000000</td>\n",
              "      <td>25382.000000</td>\n",
              "      <td>25382.000000</td>\n",
              "      <td>25382.000000</td>\n",
              "      <td>25382.000000</td>\n",
              "      <td>25382.000000</td>\n",
              "      <td>25382.000000</td>\n",
              "    </tr>\n",
              "    <tr>\n",
              "      <th>mean</th>\n",
              "      <td>12.260590</td>\n",
              "      <td>22.960669</td>\n",
              "      <td>0.710720</td>\n",
              "      <td>4.975191</td>\n",
              "      <td>7.856256</td>\n",
              "      <td>40.279292</td>\n",
              "      <td>14.252108</td>\n",
              "      <td>18.945158</td>\n",
              "      <td>69.049602</td>\n",
              "      <td>52.272831</td>\n",
              "      <td>1017.277173</td>\n",
              "      <td>1014.964443</td>\n",
              "      <td>4.549011</td>\n",
              "      <td>4.651091</td>\n",
              "      <td>16.934647</td>\n",
              "      <td>21.496754</td>\n",
              "      <td>2009.934521</td>\n",
              "      <td>6.594476</td>\n",
              "      <td>15.698133</td>\n",
              "    </tr>\n",
              "    <tr>\n",
              "      <th>std</th>\n",
              "      <td>6.387147</td>\n",
              "      <td>6.971479</td>\n",
              "      <td>1.209322</td>\n",
              "      <td>2.857405</td>\n",
              "      <td>3.090073</td>\n",
              "      <td>12.942331</td>\n",
              "      <td>8.886427</td>\n",
              "      <td>8.738629</td>\n",
              "      <td>18.175710</td>\n",
              "      <td>20.214959</td>\n",
              "      <td>6.817485</td>\n",
              "      <td>6.710905</td>\n",
              "      <td>2.355593</td>\n",
              "      <td>2.172753</td>\n",
              "      <td>6.407352</td>\n",
              "      <td>6.795669</td>\n",
              "      <td>0.946319</td>\n",
              "      <td>3.558751</td>\n",
              "      <td>8.798555</td>\n",
              "    </tr>\n",
              "    <tr>\n",
              "      <th>min</th>\n",
              "      <td>-8.500000</td>\n",
              "      <td>-3.100000</td>\n",
              "      <td>0.000000</td>\n",
              "      <td>0.000000</td>\n",
              "      <td>0.000000</td>\n",
              "      <td>7.000000</td>\n",
              "      <td>0.000000</td>\n",
              "      <td>0.000000</td>\n",
              "      <td>2.000000</td>\n",
              "      <td>1.000000</td>\n",
              "      <td>982.900000</td>\n",
              "      <td>980.200000</td>\n",
              "      <td>0.000000</td>\n",
              "      <td>0.000000</td>\n",
              "      <td>-5.500000</td>\n",
              "      <td>-3.900000</td>\n",
              "      <td>2007.000000</td>\n",
              "      <td>1.000000</td>\n",
              "      <td>1.000000</td>\n",
              "    </tr>\n",
              "    <tr>\n",
              "      <th>25%</th>\n",
              "      <td>7.700000</td>\n",
              "      <td>17.800000</td>\n",
              "      <td>0.000000</td>\n",
              "      <td>3.600000</td>\n",
              "      <td>7.000000</td>\n",
              "      <td>31.000000</td>\n",
              "      <td>7.000000</td>\n",
              "      <td>13.000000</td>\n",
              "      <td>58.000000</td>\n",
              "      <td>38.000000</td>\n",
              "      <td>1013.000000</td>\n",
              "      <td>1010.700000</td>\n",
              "      <td>3.000000</td>\n",
              "      <td>3.000000</td>\n",
              "      <td>12.300000</td>\n",
              "      <td>16.500000</td>\n",
              "      <td>2009.000000</td>\n",
              "      <td>3.000000</td>\n",
              "      <td>8.000000</td>\n",
              "    </tr>\n",
              "    <tr>\n",
              "      <th>50%</th>\n",
              "      <td>12.100000</td>\n",
              "      <td>22.400000</td>\n",
              "      <td>0.000000</td>\n",
              "      <td>4.600000</td>\n",
              "      <td>8.400000</td>\n",
              "      <td>39.000000</td>\n",
              "      <td>13.000000</td>\n",
              "      <td>19.000000</td>\n",
              "      <td>70.000000</td>\n",
              "      <td>53.000000</td>\n",
              "      <td>1017.300000</td>\n",
              "      <td>1015.000000</td>\n",
              "      <td>5.000000</td>\n",
              "      <td>5.000000</td>\n",
              "      <td>16.600000</td>\n",
              "      <td>20.900000</td>\n",
              "      <td>2010.000000</td>\n",
              "      <td>7.000000</td>\n",
              "      <td>16.000000</td>\n",
              "    </tr>\n",
              "    <tr>\n",
              "      <th>75%</th>\n",
              "      <td>17.000000</td>\n",
              "      <td>27.900000</td>\n",
              "      <td>0.800000</td>\n",
              "      <td>5.600000</td>\n",
              "      <td>9.500000</td>\n",
              "      <td>46.000000</td>\n",
              "      <td>20.000000</td>\n",
              "      <td>24.000000</td>\n",
              "      <td>82.000000</td>\n",
              "      <td>66.000000</td>\n",
              "      <td>1021.700000</td>\n",
              "      <td>1019.300000</td>\n",
              "      <td>6.000000</td>\n",
              "      <td>6.000000</td>\n",
              "      <td>21.500000</td>\n",
              "      <td>26.200000</td>\n",
              "      <td>2011.000000</td>\n",
              "      <td>10.000000</td>\n",
              "      <td>23.000000</td>\n",
              "    </tr>\n",
              "    <tr>\n",
              "      <th>max</th>\n",
              "      <td>30.300000</td>\n",
              "      <td>48.100000</td>\n",
              "      <td>3.200000</td>\n",
              "      <td>21.800000</td>\n",
              "      <td>14.300000</td>\n",
              "      <td>126.000000</td>\n",
              "      <td>55.000000</td>\n",
              "      <td>57.000000</td>\n",
              "      <td>100.000000</td>\n",
              "      <td>100.000000</td>\n",
              "      <td>1040.600000</td>\n",
              "      <td>1038.400000</td>\n",
              "      <td>9.000000</td>\n",
              "      <td>8.000000</td>\n",
              "      <td>37.700000</td>\n",
              "      <td>46.100000</td>\n",
              "      <td>2012.000000</td>\n",
              "      <td>12.000000</td>\n",
              "      <td>31.000000</td>\n",
              "    </tr>\n",
              "  </tbody>\n",
              "</table>\n",
              "</div>"
            ],
            "text/plain": [
              "            MinTemp       MaxTemp      Rainfall   Evaporation      Sunshine  \\\n",
              "count  25382.000000  25382.000000  25382.000000  25382.000000  25382.000000   \n",
              "mean      12.260590     22.960669      0.710720      4.975191      7.856256   \n",
              "std        6.387147      6.971479      1.209322      2.857405      3.090073   \n",
              "min       -8.500000     -3.100000      0.000000      0.000000      0.000000   \n",
              "25%        7.700000     17.800000      0.000000      3.600000      7.000000   \n",
              "50%       12.100000     22.400000      0.000000      4.600000      8.400000   \n",
              "75%       17.000000     27.900000      0.800000      5.600000      9.500000   \n",
              "max       30.300000     48.100000      3.200000     21.800000     14.300000   \n",
              "\n",
              "       WindGustSpeed  WindSpeed9am  WindSpeed3pm   Humidity9am   Humidity3pm  \\\n",
              "count   25382.000000  25382.000000  25382.000000  25382.000000  25382.000000   \n",
              "mean       40.279292     14.252108     18.945158     69.049602     52.272831   \n",
              "std        12.942331      8.886427      8.738629     18.175710     20.214959   \n",
              "min         7.000000      0.000000      0.000000      2.000000      1.000000   \n",
              "25%        31.000000      7.000000     13.000000     58.000000     38.000000   \n",
              "50%        39.000000     13.000000     19.000000     70.000000     53.000000   \n",
              "75%        46.000000     20.000000     24.000000     82.000000     66.000000   \n",
              "max       126.000000     55.000000     57.000000    100.000000    100.000000   \n",
              "\n",
              "        Pressure9am   Pressure3pm      Cloud9am      Cloud3pm       Temp9am  \\\n",
              "count  25382.000000  25382.000000  25382.000000  25382.000000  25382.000000   \n",
              "mean    1017.277173   1014.964443      4.549011      4.651091     16.934647   \n",
              "std        6.817485      6.710905      2.355593      2.172753      6.407352   \n",
              "min      982.900000    980.200000      0.000000      0.000000     -5.500000   \n",
              "25%     1013.000000   1010.700000      3.000000      3.000000     12.300000   \n",
              "50%     1017.300000   1015.000000      5.000000      5.000000     16.600000   \n",
              "75%     1021.700000   1019.300000      6.000000      6.000000     21.500000   \n",
              "max     1040.600000   1038.400000      9.000000      8.000000     37.700000   \n",
              "\n",
              "            Temp3pm          Year         Month           Day  \n",
              "count  25382.000000  25382.000000  25382.000000  25382.000000  \n",
              "mean      21.496754   2009.934521      6.594476     15.698133  \n",
              "std        6.795669      0.946319      3.558751      8.798555  \n",
              "min       -3.900000   2007.000000      1.000000      1.000000  \n",
              "25%       16.500000   2009.000000      3.000000      8.000000  \n",
              "50%       20.900000   2010.000000      7.000000     16.000000  \n",
              "75%       26.200000   2011.000000     10.000000     23.000000  \n",
              "max       46.100000   2012.000000     12.000000     31.000000  "
            ]
          },
          "execution_count": 68,
          "metadata": {},
          "output_type": "execute_result"
        }
      ],
      "source": [
        "X_train[numerical].describe()"
      ]
    },
    {
      "cell_type": "code",
      "execution_count": null,
      "id": "345109f8",
      "metadata": {
        "id": "345109f8",
        "outputId": "c84d70fc-b574-4685-c688-9db0c565ca77"
      },
      "outputs": [
        {
          "data": {
            "text/plain": [
              "['Location', 'WindGustDir', 'WindDir9am', 'WindDir3pm', 'RainToday']"
            ]
          },
          "execution_count": 69,
          "metadata": {},
          "output_type": "execute_result"
        }
      ],
      "source": [
        "# print categorical variables\n",
        "\n",
        "categorical"
      ]
    },
    {
      "cell_type": "code",
      "execution_count": null,
      "id": "f1a8d383",
      "metadata": {
        "id": "f1a8d383",
        "outputId": "b87b5d6a-be00-4eea-c6c7-1d629a1cc784"
      },
      "outputs": [
        {
          "data": {
            "text/html": [
              "<div>\n",
              "<style scoped>\n",
              "    .dataframe tbody tr th:only-of-type {\n",
              "        vertical-align: middle;\n",
              "    }\n",
              "\n",
              "    .dataframe tbody tr th {\n",
              "        vertical-align: top;\n",
              "    }\n",
              "\n",
              "    .dataframe thead th {\n",
              "        text-align: right;\n",
              "    }\n",
              "</style>\n",
              "<table border=\"1\" class=\"dataframe\">\n",
              "  <thead>\n",
              "    <tr style=\"text-align: right;\">\n",
              "      <th></th>\n",
              "      <th>Location</th>\n",
              "      <th>WindGustDir</th>\n",
              "      <th>WindDir9am</th>\n",
              "      <th>WindDir3pm</th>\n",
              "      <th>RainToday</th>\n",
              "    </tr>\n",
              "  </thead>\n",
              "  <tbody>\n",
              "    <tr>\n",
              "      <th>19185</th>\n",
              "      <td>PearceRAAF</td>\n",
              "      <td>E</td>\n",
              "      <td>E</td>\n",
              "      <td>SSE</td>\n",
              "      <td>No</td>\n",
              "    </tr>\n",
              "    <tr>\n",
              "      <th>25440</th>\n",
              "      <td>Cairns</td>\n",
              "      <td>S</td>\n",
              "      <td>S</td>\n",
              "      <td>SE</td>\n",
              "      <td>Yes</td>\n",
              "    </tr>\n",
              "    <tr>\n",
              "      <th>35382</th>\n",
              "      <td>PerthAirport</td>\n",
              "      <td>SW</td>\n",
              "      <td>WSW</td>\n",
              "      <td>SW</td>\n",
              "      <td>No</td>\n",
              "    </tr>\n",
              "    <tr>\n",
              "      <th>6375</th>\n",
              "      <td>Townsville</td>\n",
              "      <td>NE</td>\n",
              "      <td>SE</td>\n",
              "      <td>NE</td>\n",
              "      <td>No</td>\n",
              "    </tr>\n",
              "    <tr>\n",
              "      <th>24474</th>\n",
              "      <td>Moree</td>\n",
              "      <td>SSW</td>\n",
              "      <td>E</td>\n",
              "      <td>SE</td>\n",
              "      <td>No</td>\n",
              "    </tr>\n",
              "  </tbody>\n",
              "</table>\n",
              "</div>"
            ],
            "text/plain": [
              "           Location WindGustDir WindDir9am WindDir3pm RainToday\n",
              "19185    PearceRAAF           E          E        SSE        No\n",
              "25440        Cairns           S          S         SE       Yes\n",
              "35382  PerthAirport          SW        WSW         SW        No\n",
              "6375     Townsville          NE         SE         NE        No\n",
              "24474         Moree         SSW          E         SE        No"
            ]
          },
          "execution_count": 70,
          "metadata": {},
          "output_type": "execute_result"
        }
      ],
      "source": [
        "X_train[categorical].head()"
      ]
    },
    {
      "cell_type": "code",
      "execution_count": null,
      "id": "2eea873b",
      "metadata": {
        "id": "2eea873b"
      },
      "outputs": [],
      "source": [
        "import category_encoders as ce\n",
        "\n",
        "encoder = ce.BinaryEncoder(cols=['RainToday'])\n",
        "\n",
        "X_train = encoder.fit_transform(X_train)\n",
        "\n",
        "X_test = encoder.transform(X_test)"
      ]
    },
    {
      "cell_type": "code",
      "execution_count": null,
      "id": "4bf1fc77",
      "metadata": {
        "id": "4bf1fc77",
        "outputId": "d4c38c57-a841-40c9-980b-ca663b9af0da"
      },
      "outputs": [
        {
          "data": {
            "text/html": [
              "<div>\n",
              "<style scoped>\n",
              "    .dataframe tbody tr th:only-of-type {\n",
              "        vertical-align: middle;\n",
              "    }\n",
              "\n",
              "    .dataframe tbody tr th {\n",
              "        vertical-align: top;\n",
              "    }\n",
              "\n",
              "    .dataframe thead th {\n",
              "        text-align: right;\n",
              "    }\n",
              "</style>\n",
              "<table border=\"1\" class=\"dataframe\">\n",
              "  <thead>\n",
              "    <tr style=\"text-align: right;\">\n",
              "      <th></th>\n",
              "      <th>Location</th>\n",
              "      <th>MinTemp</th>\n",
              "      <th>MaxTemp</th>\n",
              "      <th>Rainfall</th>\n",
              "      <th>Evaporation</th>\n",
              "      <th>Sunshine</th>\n",
              "      <th>WindGustDir</th>\n",
              "      <th>WindGustSpeed</th>\n",
              "      <th>WindDir9am</th>\n",
              "      <th>WindDir3pm</th>\n",
              "      <th>...</th>\n",
              "      <th>Pressure3pm</th>\n",
              "      <th>Cloud9am</th>\n",
              "      <th>Cloud3pm</th>\n",
              "      <th>Temp9am</th>\n",
              "      <th>Temp3pm</th>\n",
              "      <th>RainToday_0</th>\n",
              "      <th>RainToday_1</th>\n",
              "      <th>Year</th>\n",
              "      <th>Month</th>\n",
              "      <th>Day</th>\n",
              "    </tr>\n",
              "  </thead>\n",
              "  <tbody>\n",
              "    <tr>\n",
              "      <th>19185</th>\n",
              "      <td>PearceRAAF</td>\n",
              "      <td>4.0</td>\n",
              "      <td>25.1</td>\n",
              "      <td>0.0</td>\n",
              "      <td>4.6</td>\n",
              "      <td>11.6</td>\n",
              "      <td>E</td>\n",
              "      <td>39.0</td>\n",
              "      <td>E</td>\n",
              "      <td>SSE</td>\n",
              "      <td>...</td>\n",
              "      <td>1019.1</td>\n",
              "      <td>0.0</td>\n",
              "      <td>0.0</td>\n",
              "      <td>17.0</td>\n",
              "      <td>24.0</td>\n",
              "      <td>0</td>\n",
              "      <td>1</td>\n",
              "      <td>2010</td>\n",
              "      <td>10</td>\n",
              "      <td>12</td>\n",
              "    </tr>\n",
              "    <tr>\n",
              "      <th>25440</th>\n",
              "      <td>Cairns</td>\n",
              "      <td>22.9</td>\n",
              "      <td>30.9</td>\n",
              "      <td>3.2</td>\n",
              "      <td>3.4</td>\n",
              "      <td>3.7</td>\n",
              "      <td>S</td>\n",
              "      <td>37.0</td>\n",
              "      <td>S</td>\n",
              "      <td>SE</td>\n",
              "      <td>...</td>\n",
              "      <td>1008.9</td>\n",
              "      <td>7.0</td>\n",
              "      <td>4.0</td>\n",
              "      <td>27.4</td>\n",
              "      <td>29.3</td>\n",
              "      <td>1</td>\n",
              "      <td>0</td>\n",
              "      <td>2010</td>\n",
              "      <td>11</td>\n",
              "      <td>20</td>\n",
              "    </tr>\n",
              "    <tr>\n",
              "      <th>35382</th>\n",
              "      <td>PerthAirport</td>\n",
              "      <td>9.8</td>\n",
              "      <td>26.5</td>\n",
              "      <td>0.0</td>\n",
              "      <td>7.2</td>\n",
              "      <td>12.4</td>\n",
              "      <td>SW</td>\n",
              "      <td>41.0</td>\n",
              "      <td>WSW</td>\n",
              "      <td>SW</td>\n",
              "      <td>...</td>\n",
              "      <td>1018.0</td>\n",
              "      <td>0.0</td>\n",
              "      <td>0.0</td>\n",
              "      <td>19.0</td>\n",
              "      <td>25.2</td>\n",
              "      <td>0</td>\n",
              "      <td>1</td>\n",
              "      <td>2010</td>\n",
              "      <td>10</td>\n",
              "      <td>25</td>\n",
              "    </tr>\n",
              "    <tr>\n",
              "      <th>6375</th>\n",
              "      <td>Townsville</td>\n",
              "      <td>16.6</td>\n",
              "      <td>25.5</td>\n",
              "      <td>0.0</td>\n",
              "      <td>4.0</td>\n",
              "      <td>9.2</td>\n",
              "      <td>NE</td>\n",
              "      <td>30.0</td>\n",
              "      <td>SE</td>\n",
              "      <td>NE</td>\n",
              "      <td>...</td>\n",
              "      <td>1015.4</td>\n",
              "      <td>3.0</td>\n",
              "      <td>2.0</td>\n",
              "      <td>21.3</td>\n",
              "      <td>24.4</td>\n",
              "      <td>0</td>\n",
              "      <td>1</td>\n",
              "      <td>2011</td>\n",
              "      <td>7</td>\n",
              "      <td>18</td>\n",
              "    </tr>\n",
              "    <tr>\n",
              "      <th>24474</th>\n",
              "      <td>Moree</td>\n",
              "      <td>20.4</td>\n",
              "      <td>34.3</td>\n",
              "      <td>0.0</td>\n",
              "      <td>12.0</td>\n",
              "      <td>6.8</td>\n",
              "      <td>SSW</td>\n",
              "      <td>69.0</td>\n",
              "      <td>E</td>\n",
              "      <td>SE</td>\n",
              "      <td>...</td>\n",
              "      <td>1008.0</td>\n",
              "      <td>5.0</td>\n",
              "      <td>5.0</td>\n",
              "      <td>26.3</td>\n",
              "      <td>32.1</td>\n",
              "      <td>0</td>\n",
              "      <td>1</td>\n",
              "      <td>2009</td>\n",
              "      <td>1</td>\n",
              "      <td>9</td>\n",
              "    </tr>\n",
              "  </tbody>\n",
              "</table>\n",
              "<p>5 rows × 25 columns</p>\n",
              "</div>"
            ],
            "text/plain": [
              "           Location  MinTemp  MaxTemp  Rainfall  Evaporation  Sunshine  \\\n",
              "19185    PearceRAAF      4.0     25.1       0.0          4.6      11.6   \n",
              "25440        Cairns     22.9     30.9       3.2          3.4       3.7   \n",
              "35382  PerthAirport      9.8     26.5       0.0          7.2      12.4   \n",
              "6375     Townsville     16.6     25.5       0.0          4.0       9.2   \n",
              "24474         Moree     20.4     34.3       0.0         12.0       6.8   \n",
              "\n",
              "      WindGustDir  WindGustSpeed WindDir9am WindDir3pm  ...  Pressure3pm  \\\n",
              "19185           E           39.0          E        SSE  ...       1019.1   \n",
              "25440           S           37.0          S         SE  ...       1008.9   \n",
              "35382          SW           41.0        WSW         SW  ...       1018.0   \n",
              "6375           NE           30.0         SE         NE  ...       1015.4   \n",
              "24474         SSW           69.0          E         SE  ...       1008.0   \n",
              "\n",
              "       Cloud9am  Cloud3pm  Temp9am  Temp3pm  RainToday_0  RainToday_1  Year  \\\n",
              "19185       0.0       0.0     17.0     24.0            0            1  2010   \n",
              "25440       7.0       4.0     27.4     29.3            1            0  2010   \n",
              "35382       0.0       0.0     19.0     25.2            0            1  2010   \n",
              "6375        3.0       2.0     21.3     24.4            0            1  2011   \n",
              "24474       5.0       5.0     26.3     32.1            0            1  2009   \n",
              "\n",
              "       Month  Day  \n",
              "19185     10   12  \n",
              "25440     11   20  \n",
              "35382     10   25  \n",
              "6375       7   18  \n",
              "24474      1    9  \n",
              "\n",
              "[5 rows x 25 columns]"
            ]
          },
          "execution_count": 72,
          "metadata": {},
          "output_type": "execute_result"
        }
      ],
      "source": [
        "X_train.head()"
      ]
    },
    {
      "cell_type": "code",
      "execution_count": null,
      "id": "5f726bd4",
      "metadata": {
        "id": "5f726bd4"
      },
      "outputs": [],
      "source": [
        "X_train = pd.concat([X_train[numerical], X_train[['RainToday_0', 'RainToday_1']],\n",
        "                     pd.get_dummies(X_train.Location), \n",
        "                     pd.get_dummies(X_train.WindGustDir),\n",
        "                     pd.get_dummies(X_train.WindDir9am),\n",
        "                     pd.get_dummies(X_train.WindDir3pm)], axis=1)"
      ]
    },
    {
      "cell_type": "code",
      "execution_count": null,
      "id": "2b172cb8",
      "metadata": {
        "id": "2b172cb8",
        "outputId": "76fc286b-066f-4bb8-8c05-88441af6223f"
      },
      "outputs": [
        {
          "data": {
            "text/html": [
              "<div>\n",
              "<style scoped>\n",
              "    .dataframe tbody tr th:only-of-type {\n",
              "        vertical-align: middle;\n",
              "    }\n",
              "\n",
              "    .dataframe tbody tr th {\n",
              "        vertical-align: top;\n",
              "    }\n",
              "\n",
              "    .dataframe thead th {\n",
              "        text-align: right;\n",
              "    }\n",
              "</style>\n",
              "<table border=\"1\" class=\"dataframe\">\n",
              "  <thead>\n",
              "    <tr style=\"text-align: right;\">\n",
              "      <th></th>\n",
              "      <th>MinTemp</th>\n",
              "      <th>MaxTemp</th>\n",
              "      <th>Rainfall</th>\n",
              "      <th>Evaporation</th>\n",
              "      <th>Sunshine</th>\n",
              "      <th>WindGustSpeed</th>\n",
              "      <th>WindSpeed9am</th>\n",
              "      <th>WindSpeed3pm</th>\n",
              "      <th>Humidity9am</th>\n",
              "      <th>Humidity3pm</th>\n",
              "      <th>...</th>\n",
              "      <th>NNW</th>\n",
              "      <th>NW</th>\n",
              "      <th>S</th>\n",
              "      <th>SE</th>\n",
              "      <th>SSE</th>\n",
              "      <th>SSW</th>\n",
              "      <th>SW</th>\n",
              "      <th>W</th>\n",
              "      <th>WNW</th>\n",
              "      <th>WSW</th>\n",
              "    </tr>\n",
              "  </thead>\n",
              "  <tbody>\n",
              "    <tr>\n",
              "      <th>19185</th>\n",
              "      <td>4.0</td>\n",
              "      <td>25.1</td>\n",
              "      <td>0.0</td>\n",
              "      <td>4.6</td>\n",
              "      <td>11.6</td>\n",
              "      <td>39.0</td>\n",
              "      <td>22.0</td>\n",
              "      <td>15.0</td>\n",
              "      <td>45.0</td>\n",
              "      <td>22.0</td>\n",
              "      <td>...</td>\n",
              "      <td>0</td>\n",
              "      <td>0</td>\n",
              "      <td>0</td>\n",
              "      <td>0</td>\n",
              "      <td>1</td>\n",
              "      <td>0</td>\n",
              "      <td>0</td>\n",
              "      <td>0</td>\n",
              "      <td>0</td>\n",
              "      <td>0</td>\n",
              "    </tr>\n",
              "    <tr>\n",
              "      <th>25440</th>\n",
              "      <td>22.9</td>\n",
              "      <td>30.9</td>\n",
              "      <td>3.2</td>\n",
              "      <td>3.4</td>\n",
              "      <td>3.7</td>\n",
              "      <td>37.0</td>\n",
              "      <td>15.0</td>\n",
              "      <td>24.0</td>\n",
              "      <td>75.0</td>\n",
              "      <td>63.0</td>\n",
              "      <td>...</td>\n",
              "      <td>0</td>\n",
              "      <td>0</td>\n",
              "      <td>0</td>\n",
              "      <td>1</td>\n",
              "      <td>0</td>\n",
              "      <td>0</td>\n",
              "      <td>0</td>\n",
              "      <td>0</td>\n",
              "      <td>0</td>\n",
              "      <td>0</td>\n",
              "    </tr>\n",
              "    <tr>\n",
              "      <th>35382</th>\n",
              "      <td>9.8</td>\n",
              "      <td>26.5</td>\n",
              "      <td>0.0</td>\n",
              "      <td>7.2</td>\n",
              "      <td>12.4</td>\n",
              "      <td>41.0</td>\n",
              "      <td>9.0</td>\n",
              "      <td>28.0</td>\n",
              "      <td>56.0</td>\n",
              "      <td>38.0</td>\n",
              "      <td>...</td>\n",
              "      <td>0</td>\n",
              "      <td>0</td>\n",
              "      <td>0</td>\n",
              "      <td>0</td>\n",
              "      <td>0</td>\n",
              "      <td>0</td>\n",
              "      <td>1</td>\n",
              "      <td>0</td>\n",
              "      <td>0</td>\n",
              "      <td>0</td>\n",
              "    </tr>\n",
              "    <tr>\n",
              "      <th>6375</th>\n",
              "      <td>16.6</td>\n",
              "      <td>25.5</td>\n",
              "      <td>0.0</td>\n",
              "      <td>4.0</td>\n",
              "      <td>9.2</td>\n",
              "      <td>30.0</td>\n",
              "      <td>13.0</td>\n",
              "      <td>22.0</td>\n",
              "      <td>69.0</td>\n",
              "      <td>57.0</td>\n",
              "      <td>...</td>\n",
              "      <td>0</td>\n",
              "      <td>0</td>\n",
              "      <td>0</td>\n",
              "      <td>0</td>\n",
              "      <td>0</td>\n",
              "      <td>0</td>\n",
              "      <td>0</td>\n",
              "      <td>0</td>\n",
              "      <td>0</td>\n",
              "      <td>0</td>\n",
              "    </tr>\n",
              "    <tr>\n",
              "      <th>24474</th>\n",
              "      <td>20.4</td>\n",
              "      <td>34.3</td>\n",
              "      <td>0.0</td>\n",
              "      <td>12.0</td>\n",
              "      <td>6.8</td>\n",
              "      <td>69.0</td>\n",
              "      <td>26.0</td>\n",
              "      <td>7.0</td>\n",
              "      <td>53.0</td>\n",
              "      <td>31.0</td>\n",
              "      <td>...</td>\n",
              "      <td>0</td>\n",
              "      <td>0</td>\n",
              "      <td>0</td>\n",
              "      <td>1</td>\n",
              "      <td>0</td>\n",
              "      <td>0</td>\n",
              "      <td>0</td>\n",
              "      <td>0</td>\n",
              "      <td>0</td>\n",
              "      <td>0</td>\n",
              "    </tr>\n",
              "  </tbody>\n",
              "</table>\n",
              "<p>5 rows × 115 columns</p>\n",
              "</div>"
            ],
            "text/plain": [
              "       MinTemp  MaxTemp  Rainfall  Evaporation  Sunshine  WindGustSpeed  \\\n",
              "19185      4.0     25.1       0.0          4.6      11.6           39.0   \n",
              "25440     22.9     30.9       3.2          3.4       3.7           37.0   \n",
              "35382      9.8     26.5       0.0          7.2      12.4           41.0   \n",
              "6375      16.6     25.5       0.0          4.0       9.2           30.0   \n",
              "24474     20.4     34.3       0.0         12.0       6.8           69.0   \n",
              "\n",
              "       WindSpeed9am  WindSpeed3pm  Humidity9am  Humidity3pm  ...  NNW  NW  S  \\\n",
              "19185          22.0          15.0         45.0         22.0  ...    0   0  0   \n",
              "25440          15.0          24.0         75.0         63.0  ...    0   0  0   \n",
              "35382           9.0          28.0         56.0         38.0  ...    0   0  0   \n",
              "6375           13.0          22.0         69.0         57.0  ...    0   0  0   \n",
              "24474          26.0           7.0         53.0         31.0  ...    0   0  0   \n",
              "\n",
              "       SE  SSE  SSW  SW  W  WNW  WSW  \n",
              "19185   0    1    0   0  0    0    0  \n",
              "25440   1    0    0   0  0    0    0  \n",
              "35382   0    0    0   1  0    0    0  \n",
              "6375    0    0    0   0  0    0    0  \n",
              "24474   1    0    0   0  0    0    0  \n",
              "\n",
              "[5 rows x 115 columns]"
            ]
          },
          "execution_count": 74,
          "metadata": {},
          "output_type": "execute_result"
        }
      ],
      "source": [
        "X_train.head()"
      ]
    },
    {
      "cell_type": "code",
      "execution_count": null,
      "id": "0584fce6",
      "metadata": {
        "id": "0584fce6"
      },
      "outputs": [],
      "source": [
        "X_test = pd.concat([X_test[numerical], X_test[['RainToday_0', 'RainToday_1']],\n",
        "                     pd.get_dummies(X_test.Location), \n",
        "                     pd.get_dummies(X_test.WindGustDir),\n",
        "                     pd.get_dummies(X_test.WindDir9am),\n",
        "                     pd.get_dummies(X_test.WindDir3pm)], axis=1)"
      ]
    },
    {
      "cell_type": "code",
      "execution_count": null,
      "id": "7854ae6b",
      "metadata": {
        "id": "7854ae6b",
        "outputId": "294085ea-a4b9-45a3-bf31-15e36ac6fad4"
      },
      "outputs": [
        {
          "data": {
            "text/html": [
              "<div>\n",
              "<style scoped>\n",
              "    .dataframe tbody tr th:only-of-type {\n",
              "        vertical-align: middle;\n",
              "    }\n",
              "\n",
              "    .dataframe tbody tr th {\n",
              "        vertical-align: top;\n",
              "    }\n",
              "\n",
              "    .dataframe thead th {\n",
              "        text-align: right;\n",
              "    }\n",
              "</style>\n",
              "<table border=\"1\" class=\"dataframe\">\n",
              "  <thead>\n",
              "    <tr style=\"text-align: right;\">\n",
              "      <th></th>\n",
              "      <th>MinTemp</th>\n",
              "      <th>MaxTemp</th>\n",
              "      <th>Rainfall</th>\n",
              "      <th>Evaporation</th>\n",
              "      <th>Sunshine</th>\n",
              "      <th>WindGustSpeed</th>\n",
              "      <th>WindSpeed9am</th>\n",
              "      <th>WindSpeed3pm</th>\n",
              "      <th>Humidity9am</th>\n",
              "      <th>Humidity3pm</th>\n",
              "      <th>...</th>\n",
              "      <th>NNW</th>\n",
              "      <th>NW</th>\n",
              "      <th>S</th>\n",
              "      <th>SE</th>\n",
              "      <th>SSE</th>\n",
              "      <th>SSW</th>\n",
              "      <th>SW</th>\n",
              "      <th>W</th>\n",
              "      <th>WNW</th>\n",
              "      <th>WSW</th>\n",
              "    </tr>\n",
              "  </thead>\n",
              "  <tbody>\n",
              "    <tr>\n",
              "      <th>22727</th>\n",
              "      <td>0.9</td>\n",
              "      <td>20.0</td>\n",
              "      <td>0.0</td>\n",
              "      <td>4.6</td>\n",
              "      <td>8.4</td>\n",
              "      <td>30.0</td>\n",
              "      <td>13.0</td>\n",
              "      <td>13.0</td>\n",
              "      <td>74.0</td>\n",
              "      <td>37.0</td>\n",
              "      <td>...</td>\n",
              "      <td>0</td>\n",
              "      <td>0</td>\n",
              "      <td>0</td>\n",
              "      <td>0</td>\n",
              "      <td>0</td>\n",
              "      <td>1</td>\n",
              "      <td>0</td>\n",
              "      <td>0</td>\n",
              "      <td>0</td>\n",
              "      <td>0</td>\n",
              "    </tr>\n",
              "    <tr>\n",
              "      <th>5305</th>\n",
              "      <td>2.1</td>\n",
              "      <td>17.8</td>\n",
              "      <td>0.0</td>\n",
              "      <td>2.0</td>\n",
              "      <td>10.2</td>\n",
              "      <td>26.0</td>\n",
              "      <td>13.0</td>\n",
              "      <td>11.0</td>\n",
              "      <td>78.0</td>\n",
              "      <td>34.0</td>\n",
              "      <td>...</td>\n",
              "      <td>0</td>\n",
              "      <td>0</td>\n",
              "      <td>0</td>\n",
              "      <td>0</td>\n",
              "      <td>0</td>\n",
              "      <td>0</td>\n",
              "      <td>1</td>\n",
              "      <td>0</td>\n",
              "      <td>0</td>\n",
              "      <td>0</td>\n",
              "    </tr>\n",
              "    <tr>\n",
              "      <th>32177</th>\n",
              "      <td>19.5</td>\n",
              "      <td>25.5</td>\n",
              "      <td>0.0</td>\n",
              "      <td>3.2</td>\n",
              "      <td>4.3</td>\n",
              "      <td>41.0</td>\n",
              "      <td>19.0</td>\n",
              "      <td>19.0</td>\n",
              "      <td>84.0</td>\n",
              "      <td>87.0</td>\n",
              "      <td>...</td>\n",
              "      <td>0</td>\n",
              "      <td>0</td>\n",
              "      <td>0</td>\n",
              "      <td>0</td>\n",
              "      <td>0</td>\n",
              "      <td>0</td>\n",
              "      <td>0</td>\n",
              "      <td>0</td>\n",
              "      <td>0</td>\n",
              "      <td>0</td>\n",
              "    </tr>\n",
              "    <tr>\n",
              "      <th>16390</th>\n",
              "      <td>6.0</td>\n",
              "      <td>17.9</td>\n",
              "      <td>0.0</td>\n",
              "      <td>4.6</td>\n",
              "      <td>8.4</td>\n",
              "      <td>39.0</td>\n",
              "      <td>22.0</td>\n",
              "      <td>17.0</td>\n",
              "      <td>43.0</td>\n",
              "      <td>33.0</td>\n",
              "      <td>...</td>\n",
              "      <td>0</td>\n",
              "      <td>0</td>\n",
              "      <td>0</td>\n",
              "      <td>0</td>\n",
              "      <td>0</td>\n",
              "      <td>0</td>\n",
              "      <td>0</td>\n",
              "      <td>1</td>\n",
              "      <td>0</td>\n",
              "      <td>0</td>\n",
              "    </tr>\n",
              "    <tr>\n",
              "      <th>11623</th>\n",
              "      <td>13.6</td>\n",
              "      <td>27.7</td>\n",
              "      <td>0.0</td>\n",
              "      <td>7.8</td>\n",
              "      <td>13.3</td>\n",
              "      <td>43.0</td>\n",
              "      <td>28.0</td>\n",
              "      <td>9.0</td>\n",
              "      <td>51.0</td>\n",
              "      <td>33.0</td>\n",
              "      <td>...</td>\n",
              "      <td>0</td>\n",
              "      <td>0</td>\n",
              "      <td>0</td>\n",
              "      <td>0</td>\n",
              "      <td>0</td>\n",
              "      <td>0</td>\n",
              "      <td>0</td>\n",
              "      <td>0</td>\n",
              "      <td>0</td>\n",
              "      <td>0</td>\n",
              "    </tr>\n",
              "  </tbody>\n",
              "</table>\n",
              "<p>5 rows × 115 columns</p>\n",
              "</div>"
            ],
            "text/plain": [
              "       MinTemp  MaxTemp  Rainfall  Evaporation  Sunshine  WindGustSpeed  \\\n",
              "22727      0.9     20.0       0.0          4.6       8.4           30.0   \n",
              "5305       2.1     17.8       0.0          2.0      10.2           26.0   \n",
              "32177     19.5     25.5       0.0          3.2       4.3           41.0   \n",
              "16390      6.0     17.9       0.0          4.6       8.4           39.0   \n",
              "11623     13.6     27.7       0.0          7.8      13.3           43.0   \n",
              "\n",
              "       WindSpeed9am  WindSpeed3pm  Humidity9am  Humidity3pm  ...  NNW  NW  S  \\\n",
              "22727          13.0          13.0         74.0         37.0  ...    0   0  0   \n",
              "5305           13.0          11.0         78.0         34.0  ...    0   0  0   \n",
              "32177          19.0          19.0         84.0         87.0  ...    0   0  0   \n",
              "16390          22.0          17.0         43.0         33.0  ...    0   0  0   \n",
              "11623          28.0           9.0         51.0         33.0  ...    0   0  0   \n",
              "\n",
              "       SE  SSE  SSW  SW  W  WNW  WSW  \n",
              "22727   0    0    1   0  0    0    0  \n",
              "5305    0    0    0   1  0    0    0  \n",
              "32177   0    0    0   0  0    0    0  \n",
              "16390   0    0    0   0  1    0    0  \n",
              "11623   0    0    0   0  0    0    0  \n",
              "\n",
              "[5 rows x 115 columns]"
            ]
          },
          "execution_count": 76,
          "metadata": {},
          "output_type": "execute_result"
        }
      ],
      "source": [
        "X_test.head()"
      ]
    },
    {
      "cell_type": "code",
      "execution_count": null,
      "id": "6e9a1776",
      "metadata": {
        "id": "6e9a1776",
        "outputId": "0f353bae-2bc4-41bf-b919-56d4f366bb62"
      },
      "outputs": [
        {
          "data": {
            "text/html": [
              "<div>\n",
              "<style scoped>\n",
              "    .dataframe tbody tr th:only-of-type {\n",
              "        vertical-align: middle;\n",
              "    }\n",
              "\n",
              "    .dataframe tbody tr th {\n",
              "        vertical-align: top;\n",
              "    }\n",
              "\n",
              "    .dataframe thead th {\n",
              "        text-align: right;\n",
              "    }\n",
              "</style>\n",
              "<table border=\"1\" class=\"dataframe\">\n",
              "  <thead>\n",
              "    <tr style=\"text-align: right;\">\n",
              "      <th></th>\n",
              "      <th>MinTemp</th>\n",
              "      <th>MaxTemp</th>\n",
              "      <th>Rainfall</th>\n",
              "      <th>Evaporation</th>\n",
              "      <th>Sunshine</th>\n",
              "      <th>WindGustSpeed</th>\n",
              "      <th>WindSpeed9am</th>\n",
              "      <th>WindSpeed3pm</th>\n",
              "      <th>Humidity9am</th>\n",
              "      <th>Humidity3pm</th>\n",
              "      <th>...</th>\n",
              "      <th>NNW</th>\n",
              "      <th>NW</th>\n",
              "      <th>S</th>\n",
              "      <th>SE</th>\n",
              "      <th>SSE</th>\n",
              "      <th>SSW</th>\n",
              "      <th>SW</th>\n",
              "      <th>W</th>\n",
              "      <th>WNW</th>\n",
              "      <th>WSW</th>\n",
              "    </tr>\n",
              "  </thead>\n",
              "  <tbody>\n",
              "    <tr>\n",
              "      <th>count</th>\n",
              "      <td>25382.000000</td>\n",
              "      <td>25382.000000</td>\n",
              "      <td>25382.000000</td>\n",
              "      <td>25382.000000</td>\n",
              "      <td>25382.000000</td>\n",
              "      <td>25382.000000</td>\n",
              "      <td>25382.000000</td>\n",
              "      <td>25382.000000</td>\n",
              "      <td>25382.000000</td>\n",
              "      <td>25382.000000</td>\n",
              "      <td>...</td>\n",
              "      <td>25382.000000</td>\n",
              "      <td>25382.000000</td>\n",
              "      <td>25382.000000</td>\n",
              "      <td>25382.000000</td>\n",
              "      <td>25382.000000</td>\n",
              "      <td>25382.000000</td>\n",
              "      <td>25382.000000</td>\n",
              "      <td>25382.000000</td>\n",
              "      <td>25382.000000</td>\n",
              "      <td>25382.000000</td>\n",
              "    </tr>\n",
              "    <tr>\n",
              "      <th>mean</th>\n",
              "      <td>12.260590</td>\n",
              "      <td>22.960669</td>\n",
              "      <td>0.710720</td>\n",
              "      <td>4.975191</td>\n",
              "      <td>7.856256</td>\n",
              "      <td>40.279292</td>\n",
              "      <td>14.252108</td>\n",
              "      <td>18.945158</td>\n",
              "      <td>69.049602</td>\n",
              "      <td>52.272831</td>\n",
              "      <td>...</td>\n",
              "      <td>0.050311</td>\n",
              "      <td>0.058742</td>\n",
              "      <td>0.070168</td>\n",
              "      <td>0.101607</td>\n",
              "      <td>0.064573</td>\n",
              "      <td>0.054684</td>\n",
              "      <td>0.065046</td>\n",
              "      <td>0.067568</td>\n",
              "      <td>0.059452</td>\n",
              "      <td>0.066346</td>\n",
              "    </tr>\n",
              "    <tr>\n",
              "      <th>std</th>\n",
              "      <td>6.387147</td>\n",
              "      <td>6.971479</td>\n",
              "      <td>1.209322</td>\n",
              "      <td>2.857405</td>\n",
              "      <td>3.090073</td>\n",
              "      <td>12.942331</td>\n",
              "      <td>8.886427</td>\n",
              "      <td>8.738629</td>\n",
              "      <td>18.175710</td>\n",
              "      <td>20.214959</td>\n",
              "      <td>...</td>\n",
              "      <td>0.218591</td>\n",
              "      <td>0.235147</td>\n",
              "      <td>0.255435</td>\n",
              "      <td>0.302137</td>\n",
              "      <td>0.245776</td>\n",
              "      <td>0.227368</td>\n",
              "      <td>0.246612</td>\n",
              "      <td>0.251007</td>\n",
              "      <td>0.236473</td>\n",
              "      <td>0.248891</td>\n",
              "    </tr>\n",
              "    <tr>\n",
              "      <th>min</th>\n",
              "      <td>-8.500000</td>\n",
              "      <td>-3.100000</td>\n",
              "      <td>0.000000</td>\n",
              "      <td>0.000000</td>\n",
              "      <td>0.000000</td>\n",
              "      <td>7.000000</td>\n",
              "      <td>0.000000</td>\n",
              "      <td>0.000000</td>\n",
              "      <td>2.000000</td>\n",
              "      <td>1.000000</td>\n",
              "      <td>...</td>\n",
              "      <td>0.000000</td>\n",
              "      <td>0.000000</td>\n",
              "      <td>0.000000</td>\n",
              "      <td>0.000000</td>\n",
              "      <td>0.000000</td>\n",
              "      <td>0.000000</td>\n",
              "      <td>0.000000</td>\n",
              "      <td>0.000000</td>\n",
              "      <td>0.000000</td>\n",
              "      <td>0.000000</td>\n",
              "    </tr>\n",
              "    <tr>\n",
              "      <th>25%</th>\n",
              "      <td>7.700000</td>\n",
              "      <td>17.800000</td>\n",
              "      <td>0.000000</td>\n",
              "      <td>3.600000</td>\n",
              "      <td>7.000000</td>\n",
              "      <td>31.000000</td>\n",
              "      <td>7.000000</td>\n",
              "      <td>13.000000</td>\n",
              "      <td>58.000000</td>\n",
              "      <td>38.000000</td>\n",
              "      <td>...</td>\n",
              "      <td>0.000000</td>\n",
              "      <td>0.000000</td>\n",
              "      <td>0.000000</td>\n",
              "      <td>0.000000</td>\n",
              "      <td>0.000000</td>\n",
              "      <td>0.000000</td>\n",
              "      <td>0.000000</td>\n",
              "      <td>0.000000</td>\n",
              "      <td>0.000000</td>\n",
              "      <td>0.000000</td>\n",
              "    </tr>\n",
              "    <tr>\n",
              "      <th>50%</th>\n",
              "      <td>12.100000</td>\n",
              "      <td>22.400000</td>\n",
              "      <td>0.000000</td>\n",
              "      <td>4.600000</td>\n",
              "      <td>8.400000</td>\n",
              "      <td>39.000000</td>\n",
              "      <td>13.000000</td>\n",
              "      <td>19.000000</td>\n",
              "      <td>70.000000</td>\n",
              "      <td>53.000000</td>\n",
              "      <td>...</td>\n",
              "      <td>0.000000</td>\n",
              "      <td>0.000000</td>\n",
              "      <td>0.000000</td>\n",
              "      <td>0.000000</td>\n",
              "      <td>0.000000</td>\n",
              "      <td>0.000000</td>\n",
              "      <td>0.000000</td>\n",
              "      <td>0.000000</td>\n",
              "      <td>0.000000</td>\n",
              "      <td>0.000000</td>\n",
              "    </tr>\n",
              "    <tr>\n",
              "      <th>75%</th>\n",
              "      <td>17.000000</td>\n",
              "      <td>27.900000</td>\n",
              "      <td>0.800000</td>\n",
              "      <td>5.600000</td>\n",
              "      <td>9.500000</td>\n",
              "      <td>46.000000</td>\n",
              "      <td>20.000000</td>\n",
              "      <td>24.000000</td>\n",
              "      <td>82.000000</td>\n",
              "      <td>66.000000</td>\n",
              "      <td>...</td>\n",
              "      <td>0.000000</td>\n",
              "      <td>0.000000</td>\n",
              "      <td>0.000000</td>\n",
              "      <td>0.000000</td>\n",
              "      <td>0.000000</td>\n",
              "      <td>0.000000</td>\n",
              "      <td>0.000000</td>\n",
              "      <td>0.000000</td>\n",
              "      <td>0.000000</td>\n",
              "      <td>0.000000</td>\n",
              "    </tr>\n",
              "    <tr>\n",
              "      <th>max</th>\n",
              "      <td>30.300000</td>\n",
              "      <td>48.100000</td>\n",
              "      <td>3.200000</td>\n",
              "      <td>21.800000</td>\n",
              "      <td>14.300000</td>\n",
              "      <td>126.000000</td>\n",
              "      <td>55.000000</td>\n",
              "      <td>57.000000</td>\n",
              "      <td>100.000000</td>\n",
              "      <td>100.000000</td>\n",
              "      <td>...</td>\n",
              "      <td>1.000000</td>\n",
              "      <td>1.000000</td>\n",
              "      <td>1.000000</td>\n",
              "      <td>1.000000</td>\n",
              "      <td>1.000000</td>\n",
              "      <td>1.000000</td>\n",
              "      <td>1.000000</td>\n",
              "      <td>1.000000</td>\n",
              "      <td>1.000000</td>\n",
              "      <td>1.000000</td>\n",
              "    </tr>\n",
              "  </tbody>\n",
              "</table>\n",
              "<p>8 rows × 115 columns</p>\n",
              "</div>"
            ],
            "text/plain": [
              "            MinTemp       MaxTemp      Rainfall   Evaporation      Sunshine  \\\n",
              "count  25382.000000  25382.000000  25382.000000  25382.000000  25382.000000   \n",
              "mean      12.260590     22.960669      0.710720      4.975191      7.856256   \n",
              "std        6.387147      6.971479      1.209322      2.857405      3.090073   \n",
              "min       -8.500000     -3.100000      0.000000      0.000000      0.000000   \n",
              "25%        7.700000     17.800000      0.000000      3.600000      7.000000   \n",
              "50%       12.100000     22.400000      0.000000      4.600000      8.400000   \n",
              "75%       17.000000     27.900000      0.800000      5.600000      9.500000   \n",
              "max       30.300000     48.100000      3.200000     21.800000     14.300000   \n",
              "\n",
              "       WindGustSpeed  WindSpeed9am  WindSpeed3pm   Humidity9am   Humidity3pm  \\\n",
              "count   25382.000000  25382.000000  25382.000000  25382.000000  25382.000000   \n",
              "mean       40.279292     14.252108     18.945158     69.049602     52.272831   \n",
              "std        12.942331      8.886427      8.738629     18.175710     20.214959   \n",
              "min         7.000000      0.000000      0.000000      2.000000      1.000000   \n",
              "25%        31.000000      7.000000     13.000000     58.000000     38.000000   \n",
              "50%        39.000000     13.000000     19.000000     70.000000     53.000000   \n",
              "75%        46.000000     20.000000     24.000000     82.000000     66.000000   \n",
              "max       126.000000     55.000000     57.000000    100.000000    100.000000   \n",
              "\n",
              "       ...           NNW            NW             S            SE  \\\n",
              "count  ...  25382.000000  25382.000000  25382.000000  25382.000000   \n",
              "mean   ...      0.050311      0.058742      0.070168      0.101607   \n",
              "std    ...      0.218591      0.235147      0.255435      0.302137   \n",
              "min    ...      0.000000      0.000000      0.000000      0.000000   \n",
              "25%    ...      0.000000      0.000000      0.000000      0.000000   \n",
              "50%    ...      0.000000      0.000000      0.000000      0.000000   \n",
              "75%    ...      0.000000      0.000000      0.000000      0.000000   \n",
              "max    ...      1.000000      1.000000      1.000000      1.000000   \n",
              "\n",
              "                SSE           SSW            SW             W           WNW  \\\n",
              "count  25382.000000  25382.000000  25382.000000  25382.000000  25382.000000   \n",
              "mean       0.064573      0.054684      0.065046      0.067568      0.059452   \n",
              "std        0.245776      0.227368      0.246612      0.251007      0.236473   \n",
              "min        0.000000      0.000000      0.000000      0.000000      0.000000   \n",
              "25%        0.000000      0.000000      0.000000      0.000000      0.000000   \n",
              "50%        0.000000      0.000000      0.000000      0.000000      0.000000   \n",
              "75%        0.000000      0.000000      0.000000      0.000000      0.000000   \n",
              "max        1.000000      1.000000      1.000000      1.000000      1.000000   \n",
              "\n",
              "                WSW  \n",
              "count  25382.000000  \n",
              "mean       0.066346  \n",
              "std        0.248891  \n",
              "min        0.000000  \n",
              "25%        0.000000  \n",
              "50%        0.000000  \n",
              "75%        0.000000  \n",
              "max        1.000000  \n",
              "\n",
              "[8 rows x 115 columns]"
            ]
          },
          "execution_count": 77,
          "metadata": {},
          "output_type": "execute_result"
        }
      ],
      "source": [
        "X_train.describe()"
      ]
    },
    {
      "cell_type": "code",
      "execution_count": null,
      "id": "0e8b3860",
      "metadata": {
        "id": "0e8b3860"
      },
      "outputs": [],
      "source": [
        "cols = X_train.columns"
      ]
    },
    {
      "cell_type": "code",
      "execution_count": null,
      "id": "30357f0b",
      "metadata": {
        "id": "30357f0b"
      },
      "outputs": [],
      "source": [
        "from sklearn.preprocessing import MinMaxScaler\n",
        "\n",
        "scaler = MinMaxScaler()\n",
        "\n",
        "X_train = scaler.fit_transform(X_train)\n",
        "\n",
        "X_test = scaler.transform(X_test)"
      ]
    },
    {
      "cell_type": "code",
      "execution_count": null,
      "id": "aa9a80bd",
      "metadata": {
        "id": "aa9a80bd"
      },
      "outputs": [],
      "source": [
        "X_train = pd.DataFrame(X_train, columns=[cols])"
      ]
    },
    {
      "cell_type": "code",
      "execution_count": null,
      "id": "0f72fb45",
      "metadata": {
        "id": "0f72fb45"
      },
      "outputs": [],
      "source": [
        "X_test = pd.DataFrame(X_test, columns=[cols])"
      ]
    },
    {
      "cell_type": "code",
      "execution_count": null,
      "id": "45dbc218",
      "metadata": {
        "id": "45dbc218",
        "outputId": "1bb84dc7-a1c4-4f73-bc2f-b70a69ef0cb6"
      },
      "outputs": [
        {
          "data": {
            "text/html": [
              "<div>\n",
              "<style scoped>\n",
              "    .dataframe tbody tr th:only-of-type {\n",
              "        vertical-align: middle;\n",
              "    }\n",
              "\n",
              "    .dataframe tbody tr th {\n",
              "        vertical-align: top;\n",
              "    }\n",
              "\n",
              "    .dataframe thead tr th {\n",
              "        text-align: left;\n",
              "    }\n",
              "</style>\n",
              "<table border=\"1\" class=\"dataframe\">\n",
              "  <thead>\n",
              "    <tr>\n",
              "      <th></th>\n",
              "      <th>MinTemp</th>\n",
              "      <th>MaxTemp</th>\n",
              "      <th>Rainfall</th>\n",
              "      <th>Evaporation</th>\n",
              "      <th>Sunshine</th>\n",
              "      <th>WindGustSpeed</th>\n",
              "      <th>WindSpeed9am</th>\n",
              "      <th>WindSpeed3pm</th>\n",
              "      <th>Humidity9am</th>\n",
              "      <th>Humidity3pm</th>\n",
              "      <th>...</th>\n",
              "      <th>NNW</th>\n",
              "      <th>NW</th>\n",
              "      <th>S</th>\n",
              "      <th>SE</th>\n",
              "      <th>SSE</th>\n",
              "      <th>SSW</th>\n",
              "      <th>SW</th>\n",
              "      <th>W</th>\n",
              "      <th>WNW</th>\n",
              "      <th>WSW</th>\n",
              "    </tr>\n",
              "  </thead>\n",
              "  <tbody>\n",
              "    <tr>\n",
              "      <th>count</th>\n",
              "      <td>25382.000000</td>\n",
              "      <td>25382.000000</td>\n",
              "      <td>25382.000000</td>\n",
              "      <td>25382.000000</td>\n",
              "      <td>25382.000000</td>\n",
              "      <td>25382.000000</td>\n",
              "      <td>25382.000000</td>\n",
              "      <td>25382.000000</td>\n",
              "      <td>25382.000000</td>\n",
              "      <td>25382.000000</td>\n",
              "      <td>...</td>\n",
              "      <td>25382.000000</td>\n",
              "      <td>25382.000000</td>\n",
              "      <td>25382.000000</td>\n",
              "      <td>25382.000000</td>\n",
              "      <td>25382.000000</td>\n",
              "      <td>25382.000000</td>\n",
              "      <td>25382.000000</td>\n",
              "      <td>25382.000000</td>\n",
              "      <td>25382.000000</td>\n",
              "      <td>25382.000000</td>\n",
              "    </tr>\n",
              "    <tr>\n",
              "      <th>mean</th>\n",
              "      <td>0.535067</td>\n",
              "      <td>0.508997</td>\n",
              "      <td>0.222100</td>\n",
              "      <td>0.228220</td>\n",
              "      <td>0.549389</td>\n",
              "      <td>0.279658</td>\n",
              "      <td>0.259129</td>\n",
              "      <td>0.332371</td>\n",
              "      <td>0.684180</td>\n",
              "      <td>0.517907</td>\n",
              "      <td>...</td>\n",
              "      <td>0.050311</td>\n",
              "      <td>0.058742</td>\n",
              "      <td>0.070168</td>\n",
              "      <td>0.101607</td>\n",
              "      <td>0.064573</td>\n",
              "      <td>0.054684</td>\n",
              "      <td>0.065046</td>\n",
              "      <td>0.067568</td>\n",
              "      <td>0.059452</td>\n",
              "      <td>0.066346</td>\n",
              "    </tr>\n",
              "    <tr>\n",
              "      <th>std</th>\n",
              "      <td>0.164617</td>\n",
              "      <td>0.136162</td>\n",
              "      <td>0.377913</td>\n",
              "      <td>0.131074</td>\n",
              "      <td>0.216089</td>\n",
              "      <td>0.108759</td>\n",
              "      <td>0.161571</td>\n",
              "      <td>0.153309</td>\n",
              "      <td>0.185466</td>\n",
              "      <td>0.204192</td>\n",
              "      <td>...</td>\n",
              "      <td>0.218591</td>\n",
              "      <td>0.235147</td>\n",
              "      <td>0.255435</td>\n",
              "      <td>0.302137</td>\n",
              "      <td>0.245776</td>\n",
              "      <td>0.227368</td>\n",
              "      <td>0.246612</td>\n",
              "      <td>0.251007</td>\n",
              "      <td>0.236473</td>\n",
              "      <td>0.248891</td>\n",
              "    </tr>\n",
              "    <tr>\n",
              "      <th>min</th>\n",
              "      <td>0.000000</td>\n",
              "      <td>0.000000</td>\n",
              "      <td>0.000000</td>\n",
              "      <td>0.000000</td>\n",
              "      <td>0.000000</td>\n",
              "      <td>0.000000</td>\n",
              "      <td>0.000000</td>\n",
              "      <td>0.000000</td>\n",
              "      <td>0.000000</td>\n",
              "      <td>0.000000</td>\n",
              "      <td>...</td>\n",
              "      <td>0.000000</td>\n",
              "      <td>0.000000</td>\n",
              "      <td>0.000000</td>\n",
              "      <td>0.000000</td>\n",
              "      <td>0.000000</td>\n",
              "      <td>0.000000</td>\n",
              "      <td>0.000000</td>\n",
              "      <td>0.000000</td>\n",
              "      <td>0.000000</td>\n",
              "      <td>0.000000</td>\n",
              "    </tr>\n",
              "    <tr>\n",
              "      <th>25%</th>\n",
              "      <td>0.417526</td>\n",
              "      <td>0.408203</td>\n",
              "      <td>0.000000</td>\n",
              "      <td>0.165138</td>\n",
              "      <td>0.489510</td>\n",
              "      <td>0.201681</td>\n",
              "      <td>0.127273</td>\n",
              "      <td>0.228070</td>\n",
              "      <td>0.571429</td>\n",
              "      <td>0.373737</td>\n",
              "      <td>...</td>\n",
              "      <td>0.000000</td>\n",
              "      <td>0.000000</td>\n",
              "      <td>0.000000</td>\n",
              "      <td>0.000000</td>\n",
              "      <td>0.000000</td>\n",
              "      <td>0.000000</td>\n",
              "      <td>0.000000</td>\n",
              "      <td>0.000000</td>\n",
              "      <td>0.000000</td>\n",
              "      <td>0.000000</td>\n",
              "    </tr>\n",
              "    <tr>\n",
              "      <th>50%</th>\n",
              "      <td>0.530928</td>\n",
              "      <td>0.498047</td>\n",
              "      <td>0.000000</td>\n",
              "      <td>0.211009</td>\n",
              "      <td>0.587413</td>\n",
              "      <td>0.268908</td>\n",
              "      <td>0.236364</td>\n",
              "      <td>0.333333</td>\n",
              "      <td>0.693878</td>\n",
              "      <td>0.525253</td>\n",
              "      <td>...</td>\n",
              "      <td>0.000000</td>\n",
              "      <td>0.000000</td>\n",
              "      <td>0.000000</td>\n",
              "      <td>0.000000</td>\n",
              "      <td>0.000000</td>\n",
              "      <td>0.000000</td>\n",
              "      <td>0.000000</td>\n",
              "      <td>0.000000</td>\n",
              "      <td>0.000000</td>\n",
              "      <td>0.000000</td>\n",
              "    </tr>\n",
              "    <tr>\n",
              "      <th>75%</th>\n",
              "      <td>0.657216</td>\n",
              "      <td>0.605469</td>\n",
              "      <td>0.250000</td>\n",
              "      <td>0.256881</td>\n",
              "      <td>0.664336</td>\n",
              "      <td>0.327731</td>\n",
              "      <td>0.363636</td>\n",
              "      <td>0.421053</td>\n",
              "      <td>0.816327</td>\n",
              "      <td>0.656566</td>\n",
              "      <td>...</td>\n",
              "      <td>0.000000</td>\n",
              "      <td>0.000000</td>\n",
              "      <td>0.000000</td>\n",
              "      <td>0.000000</td>\n",
              "      <td>0.000000</td>\n",
              "      <td>0.000000</td>\n",
              "      <td>0.000000</td>\n",
              "      <td>0.000000</td>\n",
              "      <td>0.000000</td>\n",
              "      <td>0.000000</td>\n",
              "    </tr>\n",
              "    <tr>\n",
              "      <th>max</th>\n",
              "      <td>1.000000</td>\n",
              "      <td>1.000000</td>\n",
              "      <td>1.000000</td>\n",
              "      <td>1.000000</td>\n",
              "      <td>1.000000</td>\n",
              "      <td>1.000000</td>\n",
              "      <td>1.000000</td>\n",
              "      <td>1.000000</td>\n",
              "      <td>1.000000</td>\n",
              "      <td>1.000000</td>\n",
              "      <td>...</td>\n",
              "      <td>1.000000</td>\n",
              "      <td>1.000000</td>\n",
              "      <td>1.000000</td>\n",
              "      <td>1.000000</td>\n",
              "      <td>1.000000</td>\n",
              "      <td>1.000000</td>\n",
              "      <td>1.000000</td>\n",
              "      <td>1.000000</td>\n",
              "      <td>1.000000</td>\n",
              "      <td>1.000000</td>\n",
              "    </tr>\n",
              "  </tbody>\n",
              "</table>\n",
              "<p>8 rows × 115 columns</p>\n",
              "</div>"
            ],
            "text/plain": [
              "            MinTemp       MaxTemp      Rainfall   Evaporation      Sunshine  \\\n",
              "count  25382.000000  25382.000000  25382.000000  25382.000000  25382.000000   \n",
              "mean       0.535067      0.508997      0.222100      0.228220      0.549389   \n",
              "std        0.164617      0.136162      0.377913      0.131074      0.216089   \n",
              "min        0.000000      0.000000      0.000000      0.000000      0.000000   \n",
              "25%        0.417526      0.408203      0.000000      0.165138      0.489510   \n",
              "50%        0.530928      0.498047      0.000000      0.211009      0.587413   \n",
              "75%        0.657216      0.605469      0.250000      0.256881      0.664336   \n",
              "max        1.000000      1.000000      1.000000      1.000000      1.000000   \n",
              "\n",
              "      WindGustSpeed  WindSpeed9am  WindSpeed3pm   Humidity9am   Humidity3pm  \\\n",
              "count  25382.000000  25382.000000  25382.000000  25382.000000  25382.000000   \n",
              "mean       0.279658      0.259129      0.332371      0.684180      0.517907   \n",
              "std        0.108759      0.161571      0.153309      0.185466      0.204192   \n",
              "min        0.000000      0.000000      0.000000      0.000000      0.000000   \n",
              "25%        0.201681      0.127273      0.228070      0.571429      0.373737   \n",
              "50%        0.268908      0.236364      0.333333      0.693878      0.525253   \n",
              "75%        0.327731      0.363636      0.421053      0.816327      0.656566   \n",
              "max        1.000000      1.000000      1.000000      1.000000      1.000000   \n",
              "\n",
              "       ...           NNW            NW             S            SE  \\\n",
              "count  ...  25382.000000  25382.000000  25382.000000  25382.000000   \n",
              "mean   ...      0.050311      0.058742      0.070168      0.101607   \n",
              "std    ...      0.218591      0.235147      0.255435      0.302137   \n",
              "min    ...      0.000000      0.000000      0.000000      0.000000   \n",
              "25%    ...      0.000000      0.000000      0.000000      0.000000   \n",
              "50%    ...      0.000000      0.000000      0.000000      0.000000   \n",
              "75%    ...      0.000000      0.000000      0.000000      0.000000   \n",
              "max    ...      1.000000      1.000000      1.000000      1.000000   \n",
              "\n",
              "                SSE           SSW            SW             W           WNW  \\\n",
              "count  25382.000000  25382.000000  25382.000000  25382.000000  25382.000000   \n",
              "mean       0.064573      0.054684      0.065046      0.067568      0.059452   \n",
              "std        0.245776      0.227368      0.246612      0.251007      0.236473   \n",
              "min        0.000000      0.000000      0.000000      0.000000      0.000000   \n",
              "25%        0.000000      0.000000      0.000000      0.000000      0.000000   \n",
              "50%        0.000000      0.000000      0.000000      0.000000      0.000000   \n",
              "75%        0.000000      0.000000      0.000000      0.000000      0.000000   \n",
              "max        1.000000      1.000000      1.000000      1.000000      1.000000   \n",
              "\n",
              "                WSW  \n",
              "count  25382.000000  \n",
              "mean       0.066346  \n",
              "std        0.248891  \n",
              "min        0.000000  \n",
              "25%        0.000000  \n",
              "50%        0.000000  \n",
              "75%        0.000000  \n",
              "max        1.000000  \n",
              "\n",
              "[8 rows x 115 columns]"
            ]
          },
          "execution_count": 82,
          "metadata": {},
          "output_type": "execute_result"
        }
      ],
      "source": [
        "X_train.describe()"
      ]
    },
    {
      "cell_type": "code",
      "execution_count": null,
      "id": "8540d3ad",
      "metadata": {
        "id": "8540d3ad"
      },
      "outputs": [],
      "source": [
        "corr = X_train.corr()"
      ]
    },
    {
      "cell_type": "code",
      "execution_count": null,
      "id": "8111b909",
      "metadata": {
        "id": "8111b909",
        "outputId": "a3446ef3-0544-49a6-e75d-31d9302a6344"
      },
      "outputs": [
        {
          "data": {
            "text/plain": [
              "<AxesSubplot:xlabel='None', ylabel='None'>"
            ]
          },
          "execution_count": 84,
          "metadata": {},
          "output_type": "execute_result"
        },
        {
          "data": {
            "image/png": "[encoded data removed]",
            "text/plain": [
              "<Figure size 432x288 with 2 Axes>"
            ]
          },
          "metadata": {
            "needs_background": "light"
          },
          "output_type": "display_data"
        }
      ],
      "source": [
        "sns.heatmap(corr)"
      ]
    },
    {
      "cell_type": "code",
      "execution_count": null,
      "id": "a04f2076",
      "metadata": {
        "id": "a04f2076"
      },
      "outputs": [],
      "source": [
        "#Detecting Multicollinearity using Correlation threshold\n",
        "def correl(df,threshold):\n",
        "    correlated_cols = set()\n",
        "    corr_matrix = df.corr()\n",
        "    for i in range(len(corr_matrix.columns)):\n",
        "        for j in range(i):\n",
        "            if abs(corr_matrix.iloc[i,j]) > threshold:\n",
        "                colname = corr_matrix.columns[i]\n",
        "                correlated_cols.add(colname)\n",
        "    return correlated_cols"
      ]
    },
    {
      "cell_type": "code",
      "execution_count": null,
      "id": "d6dafdf4",
      "metadata": {
        "id": "d6dafdf4",
        "outputId": "877b3f2a-b2d5-4ddf-df7a-c890a2f7a418"
      },
      "outputs": [
        {
          "data": {
            "text/plain": [
              "{('MaxTemp',),\n",
              " ('Pressure3pm',),\n",
              " ('RainToday_0',),\n",
              " ('RainToday_1',),\n",
              " ('Temp3pm',),\n",
              " ('Temp9am',)}"
            ]
          },
          "execution_count": 86,
          "metadata": {},
          "output_type": "execute_result"
        }
      ],
      "source": [
        "correl(X_train, 0.7)"
      ]
    },
    {
      "cell_type": "code",
      "execution_count": null,
      "id": "9aeb78c9",
      "metadata": {
        "id": "9aeb78c9"
      },
      "outputs": [],
      "source": [
        "corr_features = correl(X_train, 0.7)"
      ]
    },
    {
      "cell_type": "code",
      "execution_count": null,
      "id": "14281694",
      "metadata": {
        "id": "14281694",
        "outputId": "50e01b80-2c15-4d4b-8328-5ae646c4cd3f"
      },
      "outputs": [
        {
          "data": {
            "text/plain": [
              "{('MaxTemp',),\n",
              " ('Pressure3pm',),\n",
              " ('RainToday_0',),\n",
              " ('RainToday_1',),\n",
              " ('Temp3pm',),\n",
              " ('Temp9am',)}"
            ]
          },
          "execution_count": 88,
          "metadata": {},
          "output_type": "execute_result"
        }
      ],
      "source": [
        "corr_features"
      ]
    },
    {
      "cell_type": "code",
      "execution_count": null,
      "id": "51c7e665",
      "metadata": {
        "id": "51c7e665",
        "outputId": "b5da145a-7b81-4c38-ba1a-573c7aae2e87"
      },
      "outputs": [
        {
          "data": {
            "text/plain": [
              "((25382, 115), (10879, 115))"
            ]
          },
          "execution_count": 89,
          "metadata": {},
          "output_type": "execute_result"
        }
      ],
      "source": [
        "X_train.shape, X_test.shape"
      ]
    },
    {
      "cell_type": "code",
      "execution_count": null,
      "id": "ff440e03",
      "metadata": {
        "id": "ff440e03"
      },
      "outputs": [],
      "source": [
        "X_train.drop(labels=corr_features, axis=1)\n",
        "X_test.drop(labels=corr_features, axis=1)"
      ]
    },
    {
      "cell_type": "code",
      "execution_count": null,
      "id": "ca833cf6",
      "metadata": {
        "id": "ca833cf6",
        "outputId": "d753cd07-624c-4d4c-81c7-d335cb98c3b8"
      },
      "outputs": [
        {
          "data": {
            "text/plain": [
              "((25382, 109), (10879, 109))"
            ]
          },
          "execution_count": 91,
          "metadata": {},
          "output_type": "execute_result"
        }
      ],
      "source": [
        "X_train.shape, X_test.shape"
      ]
    },
    {
      "cell_type": "code",
      "execution_count": null,
      "id": "bdbc7193",
      "metadata": {
        "id": "bdbc7193",
        "outputId": "ebd21e7a-77ce-4ac6-9b5f-f7360d580587"
      },
      "outputs": [
        {
          "data": {
            "text/html": [
              "<div>\n",
              "<style scoped>\n",
              "    .dataframe tbody tr th:only-of-type {\n",
              "        vertical-align: middle;\n",
              "    }\n",
              "\n",
              "    .dataframe tbody tr th {\n",
              "        vertical-align: top;\n",
              "    }\n",
              "\n",
              "    .dataframe thead tr th {\n",
              "        text-align: left;\n",
              "    }\n",
              "</style>\n",
              "<table border=\"1\" class=\"dataframe\">\n",
              "  <thead>\n",
              "    <tr>\n",
              "      <th></th>\n",
              "      <th>MinTemp</th>\n",
              "      <th>Rainfall</th>\n",
              "      <th>Evaporation</th>\n",
              "      <th>Sunshine</th>\n",
              "      <th>WindGustSpeed</th>\n",
              "      <th>WindSpeed9am</th>\n",
              "      <th>WindSpeed3pm</th>\n",
              "      <th>Humidity9am</th>\n",
              "      <th>Humidity3pm</th>\n",
              "      <th>Pressure9am</th>\n",
              "      <th>...</th>\n",
              "      <th>NNW</th>\n",
              "      <th>NW</th>\n",
              "      <th>S</th>\n",
              "      <th>SE</th>\n",
              "      <th>SSE</th>\n",
              "      <th>SSW</th>\n",
              "      <th>SW</th>\n",
              "      <th>W</th>\n",
              "      <th>WNW</th>\n",
              "      <th>WSW</th>\n",
              "    </tr>\n",
              "  </thead>\n",
              "  <tbody>\n",
              "    <tr>\n",
              "      <th>0</th>\n",
              "      <td>0.322165</td>\n",
              "      <td>0.0</td>\n",
              "      <td>0.211009</td>\n",
              "      <td>0.811189</td>\n",
              "      <td>0.268908</td>\n",
              "      <td>0.400000</td>\n",
              "      <td>0.263158</td>\n",
              "      <td>0.438776</td>\n",
              "      <td>0.212121</td>\n",
              "      <td>0.698440</td>\n",
              "      <td>...</td>\n",
              "      <td>0.0</td>\n",
              "      <td>0.0</td>\n",
              "      <td>0.0</td>\n",
              "      <td>0.0</td>\n",
              "      <td>1.0</td>\n",
              "      <td>0.0</td>\n",
              "      <td>0.0</td>\n",
              "      <td>0.0</td>\n",
              "      <td>0.0</td>\n",
              "      <td>0.0</td>\n",
              "    </tr>\n",
              "    <tr>\n",
              "      <th>1</th>\n",
              "      <td>0.809278</td>\n",
              "      <td>1.0</td>\n",
              "      <td>0.155963</td>\n",
              "      <td>0.258741</td>\n",
              "      <td>0.252101</td>\n",
              "      <td>0.272727</td>\n",
              "      <td>0.421053</td>\n",
              "      <td>0.744898</td>\n",
              "      <td>0.626263</td>\n",
              "      <td>0.499133</td>\n",
              "      <td>...</td>\n",
              "      <td>0.0</td>\n",
              "      <td>0.0</td>\n",
              "      <td>0.0</td>\n",
              "      <td>1.0</td>\n",
              "      <td>0.0</td>\n",
              "      <td>0.0</td>\n",
              "      <td>0.0</td>\n",
              "      <td>0.0</td>\n",
              "      <td>0.0</td>\n",
              "      <td>0.0</td>\n",
              "    </tr>\n",
              "    <tr>\n",
              "      <th>2</th>\n",
              "      <td>0.471649</td>\n",
              "      <td>0.0</td>\n",
              "      <td>0.330275</td>\n",
              "      <td>0.867133</td>\n",
              "      <td>0.285714</td>\n",
              "      <td>0.163636</td>\n",
              "      <td>0.491228</td>\n",
              "      <td>0.551020</td>\n",
              "      <td>0.373737</td>\n",
              "      <td>0.639515</td>\n",
              "      <td>...</td>\n",
              "      <td>0.0</td>\n",
              "      <td>0.0</td>\n",
              "      <td>0.0</td>\n",
              "      <td>0.0</td>\n",
              "      <td>0.0</td>\n",
              "      <td>0.0</td>\n",
              "      <td>1.0</td>\n",
              "      <td>0.0</td>\n",
              "      <td>0.0</td>\n",
              "      <td>0.0</td>\n",
              "    </tr>\n",
              "    <tr>\n",
              "      <th>3</th>\n",
              "      <td>0.646907</td>\n",
              "      <td>0.0</td>\n",
              "      <td>0.183486</td>\n",
              "      <td>0.643357</td>\n",
              "      <td>0.193277</td>\n",
              "      <td>0.236364</td>\n",
              "      <td>0.385965</td>\n",
              "      <td>0.683673</td>\n",
              "      <td>0.565657</td>\n",
              "      <td>0.629116</td>\n",
              "      <td>...</td>\n",
              "      <td>0.0</td>\n",
              "      <td>0.0</td>\n",
              "      <td>0.0</td>\n",
              "      <td>0.0</td>\n",
              "      <td>0.0</td>\n",
              "      <td>0.0</td>\n",
              "      <td>0.0</td>\n",
              "      <td>0.0</td>\n",
              "      <td>0.0</td>\n",
              "      <td>0.0</td>\n",
              "    </tr>\n",
              "    <tr>\n",
              "      <th>4</th>\n",
              "      <td>0.744845</td>\n",
              "      <td>0.0</td>\n",
              "      <td>0.550459</td>\n",
              "      <td>0.475524</td>\n",
              "      <td>0.521008</td>\n",
              "      <td>0.472727</td>\n",
              "      <td>0.122807</td>\n",
              "      <td>0.520408</td>\n",
              "      <td>0.303030</td>\n",
              "      <td>0.490468</td>\n",
              "      <td>...</td>\n",
              "      <td>0.0</td>\n",
              "      <td>0.0</td>\n",
              "      <td>0.0</td>\n",
              "      <td>1.0</td>\n",
              "      <td>0.0</td>\n",
              "      <td>0.0</td>\n",
              "      <td>0.0</td>\n",
              "      <td>0.0</td>\n",
              "      <td>0.0</td>\n",
              "      <td>0.0</td>\n",
              "    </tr>\n",
              "    <tr>\n",
              "      <th>...</th>\n",
              "      <td>...</td>\n",
              "      <td>...</td>\n",
              "      <td>...</td>\n",
              "      <td>...</td>\n",
              "      <td>...</td>\n",
              "      <td>...</td>\n",
              "      <td>...</td>\n",
              "      <td>...</td>\n",
              "      <td>...</td>\n",
              "      <td>...</td>\n",
              "      <td>...</td>\n",
              "      <td>...</td>\n",
              "      <td>...</td>\n",
              "      <td>...</td>\n",
              "      <td>...</td>\n",
              "      <td>...</td>\n",
              "      <td>...</td>\n",
              "      <td>...</td>\n",
              "      <td>...</td>\n",
              "      <td>...</td>\n",
              "      <td>...</td>\n",
              "    </tr>\n",
              "    <tr>\n",
              "      <th>25377</th>\n",
              "      <td>0.677835</td>\n",
              "      <td>0.0</td>\n",
              "      <td>0.366972</td>\n",
              "      <td>0.776224</td>\n",
              "      <td>0.235294</td>\n",
              "      <td>0.363636</td>\n",
              "      <td>0.228070</td>\n",
              "      <td>0.479592</td>\n",
              "      <td>0.282828</td>\n",
              "      <td>0.511265</td>\n",
              "      <td>...</td>\n",
              "      <td>0.0</td>\n",
              "      <td>0.0</td>\n",
              "      <td>0.0</td>\n",
              "      <td>0.0</td>\n",
              "      <td>0.0</td>\n",
              "      <td>0.0</td>\n",
              "      <td>0.0</td>\n",
              "      <td>0.0</td>\n",
              "      <td>0.0</td>\n",
              "      <td>0.0</td>\n",
              "    </tr>\n",
              "    <tr>\n",
              "      <th>25378</th>\n",
              "      <td>0.613402</td>\n",
              "      <td>0.0</td>\n",
              "      <td>0.211009</td>\n",
              "      <td>0.587413</td>\n",
              "      <td>0.302521</td>\n",
              "      <td>0.345455</td>\n",
              "      <td>0.456140</td>\n",
              "      <td>0.714286</td>\n",
              "      <td>0.686869</td>\n",
              "      <td>0.584055</td>\n",
              "      <td>...</td>\n",
              "      <td>0.0</td>\n",
              "      <td>0.0</td>\n",
              "      <td>0.0</td>\n",
              "      <td>1.0</td>\n",
              "      <td>0.0</td>\n",
              "      <td>0.0</td>\n",
              "      <td>0.0</td>\n",
              "      <td>0.0</td>\n",
              "      <td>0.0</td>\n",
              "      <td>0.0</td>\n",
              "    </tr>\n",
              "    <tr>\n",
              "      <th>25379</th>\n",
              "      <td>0.476804</td>\n",
              "      <td>1.0</td>\n",
              "      <td>0.247706</td>\n",
              "      <td>0.629371</td>\n",
              "      <td>0.268908</td>\n",
              "      <td>0.436364</td>\n",
              "      <td>0.298246</td>\n",
              "      <td>0.785714</td>\n",
              "      <td>0.555556</td>\n",
              "      <td>0.585789</td>\n",
              "      <td>...</td>\n",
              "      <td>0.0</td>\n",
              "      <td>0.0</td>\n",
              "      <td>0.0</td>\n",
              "      <td>0.0</td>\n",
              "      <td>0.0</td>\n",
              "      <td>0.0</td>\n",
              "      <td>0.0</td>\n",
              "      <td>0.0</td>\n",
              "      <td>0.0</td>\n",
              "      <td>1.0</td>\n",
              "    </tr>\n",
              "    <tr>\n",
              "      <th>25380</th>\n",
              "      <td>0.384021</td>\n",
              "      <td>0.0</td>\n",
              "      <td>0.036697</td>\n",
              "      <td>0.000000</td>\n",
              "      <td>0.596639</td>\n",
              "      <td>0.272727</td>\n",
              "      <td>0.421053</td>\n",
              "      <td>0.755102</td>\n",
              "      <td>0.767677</td>\n",
              "      <td>0.689775</td>\n",
              "      <td>...</td>\n",
              "      <td>0.0</td>\n",
              "      <td>0.0</td>\n",
              "      <td>0.0</td>\n",
              "      <td>0.0</td>\n",
              "      <td>0.0</td>\n",
              "      <td>0.0</td>\n",
              "      <td>0.0</td>\n",
              "      <td>0.0</td>\n",
              "      <td>0.0</td>\n",
              "      <td>0.0</td>\n",
              "    </tr>\n",
              "    <tr>\n",
              "      <th>25381</th>\n",
              "      <td>0.577320</td>\n",
              "      <td>0.0</td>\n",
              "      <td>0.211009</td>\n",
              "      <td>0.587413</td>\n",
              "      <td>0.344538</td>\n",
              "      <td>0.072727</td>\n",
              "      <td>0.578947</td>\n",
              "      <td>0.663265</td>\n",
              "      <td>0.464646</td>\n",
              "      <td>0.556326</td>\n",
              "      <td>...</td>\n",
              "      <td>0.0</td>\n",
              "      <td>1.0</td>\n",
              "      <td>0.0</td>\n",
              "      <td>0.0</td>\n",
              "      <td>0.0</td>\n",
              "      <td>0.0</td>\n",
              "      <td>0.0</td>\n",
              "      <td>0.0</td>\n",
              "      <td>0.0</td>\n",
              "      <td>0.0</td>\n",
              "    </tr>\n",
              "  </tbody>\n",
              "</table>\n",
              "<p>25382 rows × 109 columns</p>\n",
              "</div>"
            ],
            "text/plain": [
              "        MinTemp Rainfall Evaporation  Sunshine WindGustSpeed WindSpeed9am  \\\n",
              "0      0.322165      0.0    0.211009  0.811189      0.268908     0.400000   \n",
              "1      0.809278      1.0    0.155963  0.258741      0.252101     0.272727   \n",
              "2      0.471649      0.0    0.330275  0.867133      0.285714     0.163636   \n",
              "3      0.646907      0.0    0.183486  0.643357      0.193277     0.236364   \n",
              "4      0.744845      0.0    0.550459  0.475524      0.521008     0.472727   \n",
              "...         ...      ...         ...       ...           ...          ...   \n",
              "25377  0.677835      0.0    0.366972  0.776224      0.235294     0.363636   \n",
              "25378  0.613402      0.0    0.211009  0.587413      0.302521     0.345455   \n",
              "25379  0.476804      1.0    0.247706  0.629371      0.268908     0.436364   \n",
              "25380  0.384021      0.0    0.036697  0.000000      0.596639     0.272727   \n",
              "25381  0.577320      0.0    0.211009  0.587413      0.344538     0.072727   \n",
              "\n",
              "      WindSpeed3pm Humidity9am Humidity3pm Pressure9am  ...  NNW   NW    S  \\\n",
              "0         0.263158    0.438776    0.212121    0.698440  ...  0.0  0.0  0.0   \n",
              "1         0.421053    0.744898    0.626263    0.499133  ...  0.0  0.0  0.0   \n",
              "2         0.491228    0.551020    0.373737    0.639515  ...  0.0  0.0  0.0   \n",
              "3         0.385965    0.683673    0.565657    0.629116  ...  0.0  0.0  0.0   \n",
              "4         0.122807    0.520408    0.303030    0.490468  ...  0.0  0.0  0.0   \n",
              "...            ...         ...         ...         ...  ...  ...  ...  ...   \n",
              "25377     0.228070    0.479592    0.282828    0.511265  ...  0.0  0.0  0.0   \n",
              "25378     0.456140    0.714286    0.686869    0.584055  ...  0.0  0.0  0.0   \n",
              "25379     0.298246    0.785714    0.555556    0.585789  ...  0.0  0.0  0.0   \n",
              "25380     0.421053    0.755102    0.767677    0.689775  ...  0.0  0.0  0.0   \n",
              "25381     0.578947    0.663265    0.464646    0.556326  ...  0.0  1.0  0.0   \n",
              "\n",
              "        SE  SSE  SSW   SW    W  WNW  WSW  \n",
              "0      0.0  1.0  0.0  0.0  0.0  0.0  0.0  \n",
              "1      1.0  0.0  0.0  0.0  0.0  0.0  0.0  \n",
              "2      0.0  0.0  0.0  1.0  0.0  0.0  0.0  \n",
              "3      0.0  0.0  0.0  0.0  0.0  0.0  0.0  \n",
              "4      1.0  0.0  0.0  0.0  0.0  0.0  0.0  \n",
              "...    ...  ...  ...  ...  ...  ...  ...  \n",
              "25377  0.0  0.0  0.0  0.0  0.0  0.0  0.0  \n",
              "25378  1.0  0.0  0.0  0.0  0.0  0.0  0.0  \n",
              "25379  0.0  0.0  0.0  0.0  0.0  0.0  1.0  \n",
              "25380  0.0  0.0  0.0  0.0  0.0  0.0  0.0  \n",
              "25381  0.0  0.0  0.0  0.0  0.0  0.0  0.0  \n",
              "\n",
              "[25382 rows x 109 columns]"
            ]
          },
          "execution_count": 92,
          "metadata": {},
          "output_type": "execute_result"
        }
      ],
      "source": [
        "X_train"
      ]
    },
    {
      "cell_type": "code",
      "execution_count": null,
      "id": "b4899e58",
      "metadata": {
        "id": "b4899e58"
      },
      "outputs": [],
      "source": [
        "# train a logistic regression model on the training set\n",
        "from sklearn.linear_model import LinearRegression\n",
        "model = LinearRegression()\n",
        "model.fit(X_train, y_train)\n",
        "y_pred_test = model.predict(X_test)\n",
        "linreg_sc = model.score(X_train, y_train)\n",
        "linreg_sc_test = model.score(X_test, y_test)"
      ]
    },
    {
      "cell_type": "code",
      "execution_count": null,
      "id": "23f09328",
      "metadata": {
        "id": "23f09328",
        "outputId": "cdfcdf75-eba8-4481-9ff5-e04de95f41fc"
      },
      "outputs": [
        {
          "name": "stdout",
          "output_type": "stream",
          "text": [
            "0.43830799505673934\n"
          ]
        }
      ],
      "source": [
        "from sklearn.metrics import r2_score\n",
        "score=r2_score(y_test,y_pred_test)\n",
        "print(score)"
      ]
    },
    {
      "cell_type": "code",
      "execution_count": null,
      "id": "65317ada",
      "metadata": {
        "id": "65317ada",
        "outputId": "4c3fcadb-294f-47cf-c2d9-c969db175433"
      },
      "outputs": [
        {
          "data": {
            "text/plain": [
              "0.4323064545412255"
            ]
          },
          "execution_count": 91,
          "metadata": {},
          "output_type": "execute_result"
        }
      ],
      "source": [
        "# Adjusted R-Squared\n",
        "1 - (1-score)*(len(y_test)-1)/(len(y_test)-X_test.shape[1]-1)"
      ]
    },
    {
      "cell_type": "code",
      "execution_count": null,
      "id": "c8076925",
      "metadata": {
        "id": "c8076925"
      },
      "outputs": [],
      "source": [
        "# Import the model we are using\n",
        "from sklearn.ensemble import RandomForestRegressor\n",
        "from sklearn.metrics import mean_squared_error\n",
        "# Instantiate model with 100 decision trees\n",
        "rf = RandomForestRegressor(n_estimators = 50, random_state=0)\n",
        "# Train the model on training data\n",
        "rf.fit(X_train, y_train)\n",
        "# Use the forest's predict method on the test data\n",
        "y_pred_test = rf.predict(X_test)\n",
        "# print the scores on training and test set\n",
        "rfr_sc = rf.score(X_train, y_train)\n",
        "rfr_sc_test = rf.score(X_test, y_test)"
      ]
    },
    {
      "cell_type": "code",
      "execution_count": null,
      "id": "9395fc33",
      "metadata": {
        "id": "9395fc33",
        "outputId": "b042ae65-6604-455e-b9cc-419e4b48d6cc"
      },
      "outputs": [
        {
          "name": "stdout",
          "output_type": "stream",
          "text": [
            "The minimum error we get is  0.5962919061393953\n",
            "The corresponding K value is  41\n"
          ]
        }
      ],
      "source": [
        "#import required packages\n",
        "from sklearn.neighbors import KNeighborsRegressor as KNR\n",
        "from sklearn.metrics import mean_squared_error as MSE\n",
        "from math import sqrt\n",
        "\n",
        "rmse_val_list = list() #to store rmse values for different k\n",
        "\n",
        "iter_len = len(X_test)\n",
        "iter_size = round(sqrt(iter_len))\n",
        "\n",
        "for K in range(iter_size):\n",
        "    K = K+1\n",
        "    model = KNR(n_neighbors = K)\n",
        "\n",
        "    model.fit(X_train, y_train)  #fit the model\n",
        "    y_pred = model.predict(X_test) #make prediction on test set\n",
        "    error = sqrt(MSE(y_test, y_pred)) #calculate rmse\n",
        "    #print('RMSE value for k= ' , K , 'is:', error)\n",
        "    \n",
        "    rmse_val_list.append(error) #store rmse values\n",
        "\n",
        "minError = min(rmse_val_list)\n",
        "    \n",
        "print(\"The minimum error we get is \", minError )\n",
        "print(\"The corresponding K value is \", 1+rmse_val_list.index(minError))"
      ]
    },
    {
      "cell_type": "code",
      "execution_count": null,
      "id": "9ad69f7c",
      "metadata": {
        "id": "9ad69f7c"
      },
      "outputs": [],
      "source": [
        "# train a KNN regression model on the training set with n_neighbors=41 \n",
        "from sklearn.neighbors import KNeighborsRegressor\n",
        "model1 = KNeighborsRegressor(n_neighbors=41)\n",
        "model1.fit(X_train, y_train)\n",
        "y_pred_test = model1.predict(X_test)\n",
        "knn_sc = model1.score(X_train, y_train)\n",
        "knn_sc_test = model1.score(X_test, y_test)"
      ]
    },
    {
      "cell_type": "code",
      "execution_count": null,
      "id": "abd86625",
      "metadata": {
        "id": "abd86625"
      },
      "outputs": [],
      "source": [
        "# train a Ridge regression model on the training set\n",
        "from sklearn.linear_model import Ridge\n",
        "model2 = Ridge(alpha=0.5)\n",
        "model2.fit(X_train, y_train)\n",
        "y_pred_test = model2.predict(X_test)\n",
        "ridge_sc = model2.score(X_train, y_train)\n",
        "ridge_sc_test = model2.score(X_test, y_test)"
      ]
    },
    {
      "cell_type": "code",
      "execution_count": null,
      "id": "35084933",
      "metadata": {
        "id": "35084933",
        "outputId": "a0850d90-3b1a-4da2-9565-041a92dd2130"
      },
      "outputs": [
        {
          "data": {
            "text/html": [
              "<div>\n",
              "<style scoped>\n",
              "    .dataframe tbody tr th:only-of-type {\n",
              "        vertical-align: middle;\n",
              "    }\n",
              "\n",
              "    .dataframe tbody tr th {\n",
              "        vertical-align: top;\n",
              "    }\n",
              "\n",
              "    .dataframe thead th {\n",
              "        text-align: right;\n",
              "    }\n",
              "</style>\n",
              "<table border=\"1\" class=\"dataframe\">\n",
              "  <thead>\n",
              "    <tr style=\"text-align: right;\">\n",
              "      <th></th>\n",
              "      <th>Model</th>\n",
              "      <th>Score</th>\n",
              "      <th>TestScore</th>\n",
              "    </tr>\n",
              "  </thead>\n",
              "  <tbody>\n",
              "    <tr>\n",
              "      <th>1</th>\n",
              "      <td>Random Forest Regression</td>\n",
              "      <td>0.925859</td>\n",
              "      <td>0.489649</td>\n",
              "    </tr>\n",
              "    <tr>\n",
              "      <th>0</th>\n",
              "      <td>Linear Regression</td>\n",
              "      <td>0.443419</td>\n",
              "      <td>0.438308</td>\n",
              "    </tr>\n",
              "    <tr>\n",
              "      <th>3</th>\n",
              "      <td>Ridge Regression</td>\n",
              "      <td>0.443394</td>\n",
              "      <td>0.438385</td>\n",
              "    </tr>\n",
              "    <tr>\n",
              "      <th>2</th>\n",
              "      <td>KNNRegressor</td>\n",
              "      <td>0.333898</td>\n",
              "      <td>0.296424</td>\n",
              "    </tr>\n",
              "  </tbody>\n",
              "</table>\n",
              "</div>"
            ],
            "text/plain": [
              "                      Model     Score  TestScore\n",
              "1  Random Forest Regression  0.925859   0.489649\n",
              "0         Linear Regression  0.443419   0.438308\n",
              "3          Ridge Regression  0.443394   0.438385\n",
              "2              KNNRegressor  0.333898   0.296424"
            ]
          },
          "execution_count": 96,
          "metadata": {},
          "output_type": "execute_result"
        }
      ],
      "source": [
        "models = pd.DataFrame({\n",
        "    'Model': ['Linear Regression', 'Random Forest Regression', 'KNNRegressor', 'Ridge Regression'],\n",
        "    'Score': [linreg_sc, rfr_sc, knn_sc, ridge_sc],\n",
        "    'TestScore': [linreg_sc_test, rfr_sc_test, knn_sc_test, ridge_sc_test]})\n",
        "models.sort_values(by='Score', ascending=False)"
      ]
    }
  ],
  "metadata": {
    "kernelspec": {
      "display_name": "Python 3 (ipykernel)",
      "language": "python",
      "name": "python3"
    },
    "language_info": {
      "codemirror_mode": {
        "name": "ipython",
        "version": 3
      },
      "file_extension": ".py",
      "mimetype": "text/x-python",
      "name": "python",
      "nbconvert_exporter": "python",
      "pygments_lexer": "ipython3",
      "version": "3.9.7"
    },
    "colab": {
      "provenance": []
    }
  },
  "nbformat": 4,
  "nbformat_minor": 5
}